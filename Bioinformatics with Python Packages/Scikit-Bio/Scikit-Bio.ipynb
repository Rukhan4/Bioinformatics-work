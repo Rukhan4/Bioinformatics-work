{
 "metadata": {
  "language_info": {
   "codemirror_mode": {
    "name": "ipython",
    "version": 3
   },
   "file_extension": ".py",
   "mimetype": "text/x-python",
   "name": "python",
   "nbconvert_exporter": "python",
   "pygments_lexer": "ipython3",
   "version": "3.9.0"
  },
  "orig_nbformat": 2,
  "kernelspec": {
   "name": "python3",
   "display_name": "Python 3.9.0 64-bit"
  },
  "interpreter": {
   "hash": "50c1d9dc61b70a857575e6cd78e3f7f868bc672eff5937ba251fee1ba26d9a38"
  }
 },
 "nbformat": 4,
 "nbformat_minor": 2,
 "cells": [
  {
   "source": [
    "# Table of Contents\n",
    "\n",
    "1) Sequence Analysis (Handling DNA, RNA and Protein Sequences)\n",
    "\n",
    "2) Protein Synthesis\n",
    "\n",
    "3) DNA Composition - GC and AT Content\n",
    "\n",
    "4) Checking for Similarities using Hamming Distance and K-mer Distance\n",
    "\n",
    "5) K-mers and K-mer Frequency\n",
    "\n",
    "6) Sequence Alignments\n",
    "\n",
    "7) Working with FASTA and GenBank File Formats\n",
    "\n",
    "8) Phylogenetics with Newick format\n",
    "\n"
   ],
   "cell_type": "markdown",
   "metadata": {}
  },
  {
   "cell_type": "code",
   "execution_count": 1,
   "metadata": {},
   "outputs": [],
   "source": [
    "#Load Packages\n",
    "import skbio"
   ]
  },
  {
   "cell_type": "code",
   "execution_count": 3,
   "metadata": {},
   "outputs": [],
   "source": [
    "#Methods and Attributes\n",
    "dir(skbio)"
   ]
  },
  {
   "source": [
    "## 1) Sequence Analysis"
   ],
   "cell_type": "markdown",
   "metadata": {}
  },
  {
   "cell_type": "code",
   "execution_count": 4,
   "metadata": {},
   "outputs": [],
   "source": [
    "from skbio import DNA,RNA, Sequence #Can construct sequences for any of these"
   ]
  },
  {
   "cell_type": "code",
   "execution_count": 19,
   "metadata": {},
   "outputs": [
    {
     "output_type": "execute_result",
     "data": {
      "text/plain": [
       "Sequence\n",
       "---------------\n",
       "Stats:\n",
       "    length: 12\n",
       "---------------\n",
       "0 ATGATCTCGT AA"
      ]
     },
     "metadata": {},
     "execution_count": 19
    }
   ],
   "source": [
    "#Create a generic sequence\n",
    "seq1 = Sequence(\"ATGATCTCGTAA\")\n",
    "seq1\n",
    "#str(seq1) #see without metadata"
   ]
  },
  {
   "cell_type": "code",
   "execution_count": 42,
   "metadata": {},
   "outputs": [
    {
     "output_type": "execute_result",
     "data": {
      "text/plain": [
       "DNA\n",
       "--------------------------\n",
       "Stats:\n",
       "    length: 12\n",
       "    has gaps: False\n",
       "    has degenerates: False\n",
       "    has definites: True\n",
       "    GC-content: 33.33%\n",
       "--------------------------\n",
       "0 ATGATCTCGT AA"
      ]
     },
     "metadata": {},
     "execution_count": 42
    }
   ],
   "source": [
    "#Create a DNA sequence\n",
    "dna_seq = DNA(\"ATGATCTCGTAA\")\n",
    "dna_seq\n",
    "#dir(dna_seq)"
   ]
  },
  {
   "cell_type": "code",
   "execution_count": 13,
   "metadata": {},
   "outputs": [
    {
     "output_type": "execute_result",
     "data": {
      "text/plain": [
       "DNA\n",
       "-----------------------------\n",
       "Metadata:\n",
       "    'description': 'GFP'\n",
       "    'id': 'my-sequence'\n",
       "Positional metadata:\n",
       "    'quality': <dtype: int64>\n",
       "Stats:\n",
       "    length: 8\n",
       "    has gaps: False\n",
       "    has degenerates: False\n",
       "    has definites: True\n",
       "    GC-content: 62.50%\n",
       "-----------------------------\n",
       "0 ACCGGGTA"
      ]
     },
     "metadata": {},
     "execution_count": 13
    }
   ],
   "source": [
    "#Automatically generate some Metadata and Stats\n",
    "d = DNA('ACCGGGTA', metadata={'id':\"my-sequence\", 'description':\"GFP\"},\n",
    "         positional_metadata={'quality':[22, 25, 22, 18, 23, 25, 25, 25]})\n",
    "d"
   ]
  },
  {
   "cell_type": "code",
   "execution_count": 14,
   "metadata": {},
   "outputs": [
    {
     "output_type": "execute_result",
     "data": {
      "text/plain": [
       "{'-',\n",
       " '.',\n",
       " 'A',\n",
       " 'B',\n",
       " 'C',\n",
       " 'D',\n",
       " 'G',\n",
       " 'H',\n",
       " 'K',\n",
       " 'M',\n",
       " 'N',\n",
       " 'R',\n",
       " 'S',\n",
       " 'T',\n",
       " 'V',\n",
       " 'W',\n",
       " 'Y'}"
      ]
     },
     "metadata": {},
     "execution_count": 14
    }
   ],
   "source": [
    "#See alphabet of sequence\n",
    "dna_seq.alphabet"
   ]
  },
  {
   "cell_type": "code",
   "execution_count": 17,
   "metadata": {},
   "outputs": [
    {
     "output_type": "stream",
     "name": "stdout",
     "text": [
      "ATGATCTCGTAA\n"
     ]
    },
    {
     "output_type": "execute_result",
     "data": {
      "text/plain": [
       "array([b'A', b'T', b'G', b'A', b'T', b'C', b'T', b'C', b'G', b'T', b'A',\n",
       "       b'A'], dtype='|S1')"
      ]
     },
     "metadata": {},
     "execution_count": 17
    }
   ],
   "source": [
    "#Convert to numpy array of Nucleotides\n",
    "print(dna_seq)\n",
    "\n",
    "dna_seq.values"
   ]
  },
  {
   "cell_type": "code",
   "execution_count": 23,
   "metadata": {},
   "outputs": [
    {
     "output_type": "stream",
     "name": "stdout",
     "text": [
      "Dna Sequence: ATGATCTCGTAA\nComplement: TACTAGAGCATT\nReverse Complement: TTACGAGATCAT\n"
     ]
    }
   ],
   "source": [
    "#Reverse Complement\n",
    "\n",
    "#Original sequence\n",
    "print(f\"Dna Sequence: {dna_seq}\")\n",
    "\n",
    "#Complement\n",
    "print(f\"Complement: {dna_seq.complement()}\")\n",
    "\n",
    "#Reverse Complement\n",
    "print(f\"Reverse Complement: {dna_seq.reverse_complement()}\")\n"
   ]
  },
  {
   "cell_type": "code",
   "execution_count": 24,
   "metadata": {},
   "outputs": [
    {
     "output_type": "execute_result",
     "data": {
      "text/plain": [
       "True"
      ]
     },
     "metadata": {},
     "execution_count": 24
    }
   ],
   "source": [
    "#Check if the generated sequence is actually the reverse complement - Boolean value\n",
    "dna_seq.reverse_complement().is_reverse_complement(dna_seq)"
   ]
  },
  {
   "cell_type": "code",
   "execution_count": 25,
   "metadata": {},
   "outputs": [
    {
     "output_type": "execute_result",
     "data": {
      "text/plain": [
       "2"
      ]
     },
     "metadata": {},
     "execution_count": 25
    }
   ],
   "source": [
    "#Count of nucleotide\n",
    "dna_seq.count(\"G\")"
   ]
  },
  {
   "cell_type": "code",
   "execution_count": 26,
   "metadata": {},
   "outputs": [
    {
     "output_type": "execute_result",
     "data": {
      "text/plain": [
       "1"
      ]
     },
     "metadata": {},
     "execution_count": 26
    }
   ],
   "source": [
    "#Position of Nucleotide\n",
    "dna_seq.index(\"T\")"
   ]
  },
  {
   "cell_type": "code",
   "execution_count": 27,
   "metadata": {},
   "outputs": [
    {
     "output_type": "execute_result",
     "data": {
      "text/plain": [
       "DNA\n",
       "--------------------------\n",
       "Stats:\n",
       "    length: 3\n",
       "    has gaps: False\n",
       "    has degenerates: False\n",
       "    has definites: True\n",
       "    GC-content: 33.33%\n",
       "--------------------------\n",
       "0 ATG"
      ]
     },
     "metadata": {},
     "execution_count": 27
    }
   ],
   "source": [
    "#Slice a sequence\n",
    "dna_seq[0:3]"
   ]
  },
  {
   "cell_type": "code",
   "execution_count": 32,
   "metadata": {},
   "outputs": [
    {
     "output_type": "stream",
     "name": "stdout",
     "text": [
      "slice(0, 3, None)\nATG\n"
     ]
    }
   ],
   "source": [
    "# Searched for arbitrary patterns using regular expressions\n",
    "for match in dna_seq.find_with_regex('(ATG+)'):\n",
    "    print(match)\n",
    "    print(str(dna_seq[match]))"
   ]
  },
  {
   "cell_type": "code",
   "execution_count": 33,
   "metadata": {},
   "outputs": [
    {
     "output_type": "stream",
     "name": "stdout",
     "text": [
      "slice(2, 4, None)\nGA\nslice(10, 12, None)\nAA\n"
     ]
    }
   ],
   "source": [
    "#Search for Biologically significant Motifs\n",
    "\n",
    "#Structural motif - formed by 3d arrangements of amino acids that may or may not be adjacent\n",
    "#Sequence motif - conserved sequences of similar or identical patterns that may occur in nucleic acid or proteins\n",
    "\n",
    "for motif_slice in dna_seq.find_motifs('purine-run', min_length=2): #Search for only purine runs\n",
    "    print(motif_slice)\n",
    "    print(str(dna_seq[motif_slice]))"
   ]
  },
  {
   "source": [
    "## 2) Protein Synthesis"
   ],
   "cell_type": "markdown",
   "metadata": {}
  },
  {
   "cell_type": "code",
   "execution_count": 43,
   "metadata": {},
   "outputs": [],
   "source": [
    "from skbio import Protein"
   ]
  },
  {
   "cell_type": "code",
   "execution_count": 35,
   "metadata": {},
   "outputs": [
    {
     "output_type": "execute_result",
     "data": {
      "text/plain": [
       "DNA\n",
       "--------------------------\n",
       "Stats:\n",
       "    length: 12\n",
       "    has gaps: False\n",
       "    has degenerates: False\n",
       "    has definites: True\n",
       "    GC-content: 33.33%\n",
       "--------------------------\n",
       "0 ATGATCTCGT AA"
      ]
     },
     "metadata": {},
     "execution_count": 35
    }
   ],
   "source": [
    "dna_seq"
   ]
  },
  {
   "cell_type": "code",
   "execution_count": 42,
   "metadata": {},
   "outputs": [
    {
     "output_type": "stream",
     "name": "stdout",
     "text": [
      "Original DNA: ATGATCTCGTAA\nTranscription gives: AUGAUCUCGUAA\nTranslation gives: MIS*\n"
     ]
    }
   ],
   "source": [
    "#Original DNA sequence\n",
    "print(f\"Original DNA: {dna_seq}\")\n",
    "\n",
    "#Transcription DNA -> mRNA\n",
    "print(f\"Transcription gives: {dna_seq.transcribe()}\")\n",
    "\n",
    "#Transcribe mRNA -> Amino Acids\n",
    "print(f\"Translation gives: {dna_seq.translate()}\") #Methionine, Isoleucine , Serine"
   ]
  },
  {
   "cell_type": "code",
   "execution_count": 47,
   "metadata": {},
   "outputs": [
    {
     "output_type": "execute_result",
     "data": {
      "text/plain": [
       "Protein\n",
       "--------------------------\n",
       "Stats:\n",
       "    length: 6\n",
       "    has gaps: False\n",
       "    has degenerates: False\n",
       "    has definites: True\n",
       "    has stops: False\n",
       "--------------------------\n",
       "0 MITITV"
      ]
     },
     "metadata": {},
     "execution_count": 47
    }
   ],
   "source": [
    "#Create Protein Sequence from Scratch\n",
    "protein_a = Protein('MITITV')\n",
    "protein_a\n",
    "#dir(protein_a)"
   ]
  },
  {
   "source": [
    "# 3) DNA Composition - GC and AT Content"
   ],
   "cell_type": "markdown",
   "metadata": {}
  },
  {
   "cell_type": "code",
   "execution_count": 50,
   "metadata": {},
   "outputs": [
    {
     "output_type": "execute_result",
     "data": {
      "text/plain": [
       "DNA\n",
       "--------------------------\n",
       "Stats:\n",
       "    length: 12\n",
       "    has gaps: False\n",
       "    has degenerates: False\n",
       "    has definites: True\n",
       "    GC-content: 33.33%\n",
       "--------------------------\n",
       "0 ATGATCTCGT AA"
      ]
     },
     "metadata": {},
     "execution_count": 50
    }
   ],
   "source": [
    "#Note the GC content is automatically returned !!\n",
    "dna_seq"
   ]
  },
  {
   "source": [
    "## GC"
   ],
   "cell_type": "markdown",
   "metadata": {}
  },
  {
   "cell_type": "code",
   "execution_count": 55,
   "metadata": {},
   "outputs": [
    {
     "output_type": "execute_result",
     "data": {
      "text/plain": [
       "33.33333333333333"
      ]
     },
     "metadata": {},
     "execution_count": 55
    }
   ],
   "source": [
    "#Get GC Content alone as a percentage compared to the whole sequence\n",
    "dna_seq.gc_content()*100"
   ]
  },
  {
   "cell_type": "code",
   "execution_count": 59,
   "metadata": {},
   "outputs": [
    {
     "output_type": "execute_result",
     "data": {
      "text/plain": [
       "33.33333333333333"
      ]
     },
     "metadata": {},
     "execution_count": 59
    }
   ],
   "source": [
    "#Custom GC content function\n",
    "def custom_gc_content(dna_seq):\n",
    "    return float(dna_seq.count('G') + dna_seq.count('C'))/len(dna_seq)*100\n",
    "\n",
    "custom_gc_content(dna_seq)"
   ]
  },
  {
   "cell_type": "code",
   "execution_count": 53,
   "metadata": {},
   "outputs": [
    {
     "output_type": "execute_result",
     "data": {
      "text/plain": [
       "4"
      ]
     },
     "metadata": {},
     "execution_count": 53
    }
   ],
   "source": [
    "#Get GC Frequency - Count number of G and C in sequence\n",
    "dna_seq.gc_frequency()"
   ]
  },
  {
   "cell_type": "code",
   "execution_count": 73,
   "metadata": {},
   "outputs": [
    {
     "output_type": "execute_result",
     "data": {
      "text/plain": [
       "4"
      ]
     },
     "metadata": {},
     "execution_count": 73
    }
   ],
   "source": [
    "#Custom GC frequency function\n",
    "def custom_gc_frequency(dna_seq):\n",
    "    return dna_seq.count('G') + dna_seq.count('C')\n",
    "\n",
    "custom_gc_frequency(dna_seq)"
   ]
  },
  {
   "source": [
    "## AT (no module, must create custom functions)"
   ],
   "cell_type": "markdown",
   "metadata": {}
  },
  {
   "cell_type": "code",
   "execution_count": 78,
   "metadata": {},
   "outputs": [
    {
     "output_type": "execute_result",
     "data": {
      "text/plain": [
       "66.66666666666666"
      ]
     },
     "metadata": {},
     "execution_count": 78
    }
   ],
   "source": [
    "#Custom AT content function\n",
    "def custom_at_content(dna_seq):\n",
    "    return float(dna_seq.count('A') + dna_seq.count('T'))/len(dna_seq)*100\n",
    "\n",
    "custom_at_content(dna_seq)"
   ]
  },
  {
   "cell_type": "code",
   "execution_count": 79,
   "metadata": {},
   "outputs": [
    {
     "output_type": "execute_result",
     "data": {
      "text/plain": [
       "8"
      ]
     },
     "metadata": {},
     "execution_count": 79
    }
   ],
   "source": [
    "#Custom AT frequency function\n",
    "def custom_at_frequency(dna_seq):\n",
    "    return dna_seq.count('A') + dna_seq.count('T')\n",
    "\n",
    "custom_at_frequency(dna_seq)"
   ]
  },
  {
   "source": [
    "## Get frequency of each nucleotide"
   ],
   "cell_type": "markdown",
   "metadata": {}
  },
  {
   "cell_type": "code",
   "execution_count": 80,
   "metadata": {},
   "outputs": [
    {
     "output_type": "execute_result",
     "data": {
      "text/plain": [
       "{'A': 4, 'C': 2, 'G': 2, 'T': 4}"
      ]
     },
     "metadata": {},
     "execution_count": 80
    }
   ],
   "source": [
    "dna_seq.frequencies()"
   ]
  },
  {
   "cell_type": "code",
   "execution_count": 85,
   "metadata": {},
   "outputs": [
    {
     "output_type": "execute_result",
     "data": {
      "text/plain": [
       "Counter({'A': 4, 'T': 4, 'G': 2, 'C': 2})"
      ]
     },
     "metadata": {},
     "execution_count": 85
    }
   ],
   "source": [
    "#Custom \n",
    "from collections import Counter\n",
    "Counter(str(dna_seq))"
   ]
  },
  {
   "cell_type": "code",
   "execution_count": 88,
   "metadata": {},
   "outputs": [
    {
     "output_type": "execute_result",
     "data": {
      "text/plain": [
       "<BarContainer object of 4 artists>"
      ]
     },
     "metadata": {},
     "execution_count": 88
    },
    {
     "output_type": "display_data",
     "data": {
      "text/plain": "<Figure size 432x288 with 1 Axes>",
      "image/svg+xml": "<?xml version=\"1.0\" encoding=\"utf-8\" standalone=\"no\"?>\r\n<!DOCTYPE svg PUBLIC \"-//W3C//DTD SVG 1.1//EN\"\r\n  \"http://www.w3.org/Graphics/SVG/1.1/DTD/svg11.dtd\">\r\n<svg height=\"248.518125pt\" version=\"1.1\" viewBox=\"0 0 372.103125 248.518125\" width=\"372.103125pt\" xmlns=\"http://www.w3.org/2000/svg\" xmlns:xlink=\"http://www.w3.org/1999/xlink\">\r\n <metadata>\r\n  <rdf:RDF xmlns:cc=\"http://creativecommons.org/ns#\" xmlns:dc=\"http://purl.org/dc/elements/1.1/\" xmlns:rdf=\"http://www.w3.org/1999/02/22-rdf-syntax-ns#\">\r\n   <cc:Work>\r\n    <dc:type rdf:resource=\"http://purl.org/dc/dcmitype/StillImage\"/>\r\n    <dc:date>2021-04-19T12:00:25.835958</dc:date>\r\n    <dc:format>image/svg+xml</dc:format>\r\n    <dc:creator>\r\n     <cc:Agent>\r\n      <dc:title>Matplotlib v3.4.0, https://matplotlib.org/</dc:title>\r\n     </cc:Agent>\r\n    </dc:creator>\r\n   </cc:Work>\r\n  </rdf:RDF>\r\n </metadata>\r\n <defs>\r\n  <style type=\"text/css\">*{stroke-linecap:butt;stroke-linejoin:round;}</style>\r\n </defs>\r\n <g id=\"figure_1\">\r\n  <g id=\"patch_1\">\r\n   <path d=\"M 0 248.518125 \r\nL 372.103125 248.518125 \r\nL 372.103125 0 \r\nL 0 0 \r\nz\r\n\" style=\"fill:none;\"/>\r\n  </g>\r\n  <g id=\"axes_1\">\r\n   <g id=\"patch_2\">\r\n    <path d=\"M 30.103125 224.64 \r\nL 364.903125 224.64 \r\nL 364.903125 7.2 \r\nL 30.103125 7.2 \r\nz\r\n\" style=\"fill:#ffffff;\"/>\r\n   </g>\r\n   <g id=\"patch_3\">\r\n    <path clip-path=\"url(#p853c965e22)\" d=\"M 45.321307 224.64 \r\nL 109.397862 224.64 \r\nL 109.397862 17.554286 \r\nL 45.321307 17.554286 \r\nz\r\n\" style=\"fill:#1f77b4;\"/>\r\n   </g>\r\n   <g id=\"patch_4\">\r\n    <path clip-path=\"url(#p853c965e22)\" d=\"M 125.417001 224.64 \r\nL 189.493556 224.64 \r\nL 189.493556 121.097143 \r\nL 125.417001 121.097143 \r\nz\r\n\" style=\"fill:#1f77b4;\"/>\r\n   </g>\r\n   <g id=\"patch_5\">\r\n    <path clip-path=\"url(#p853c965e22)\" d=\"M 205.512694 224.64 \r\nL 269.589249 224.64 \r\nL 269.589249 121.097143 \r\nL 205.512694 121.097143 \r\nz\r\n\" style=\"fill:#1f77b4;\"/>\r\n   </g>\r\n   <g id=\"patch_6\">\r\n    <path clip-path=\"url(#p853c965e22)\" d=\"M 285.608388 224.64 \r\nL 349.684943 224.64 \r\nL 349.684943 17.554286 \r\nL 285.608388 17.554286 \r\nz\r\n\" style=\"fill:#1f77b4;\"/>\r\n   </g>\r\n   <g id=\"matplotlib.axis_1\">\r\n    <g id=\"xtick_1\">\r\n     <g id=\"line2d_1\">\r\n      <defs>\r\n       <path d=\"M 0 0 \r\nL 0 3.5 \r\n\" id=\"m7ca28e172f\" style=\"stroke:#000000;stroke-width:0.8;\"/>\r\n      </defs>\r\n      <g>\r\n       <use style=\"stroke:#000000;stroke-width:0.8;\" x=\"77.359584\" xlink:href=\"#m7ca28e172f\" y=\"224.64\"/>\r\n      </g>\r\n     </g>\r\n     <g id=\"text_1\">\r\n      <!-- A -->\r\n      <g transform=\"translate(73.939272 239.238437)scale(0.1 -0.1)\">\r\n       <defs>\r\n        <path d=\"M 2188 4044 \r\nL 1331 1722 \r\nL 3047 1722 \r\nL 2188 4044 \r\nz\r\nM 1831 4666 \r\nL 2547 4666 \r\nL 4325 0 \r\nL 3669 0 \r\nL 3244 1197 \r\nL 1141 1197 \r\nL 716 0 \r\nL 50 0 \r\nL 1831 4666 \r\nz\r\n\" id=\"DejaVuSans-41\" transform=\"scale(0.015625)\"/>\r\n       </defs>\r\n       <use xlink:href=\"#DejaVuSans-41\"/>\r\n      </g>\r\n     </g>\r\n    </g>\r\n    <g id=\"xtick_2\">\r\n     <g id=\"line2d_2\">\r\n      <g>\r\n       <use style=\"stroke:#000000;stroke-width:0.8;\" x=\"157.455278\" xlink:href=\"#m7ca28e172f\" y=\"224.64\"/>\r\n      </g>\r\n     </g>\r\n     <g id=\"text_2\">\r\n      <!-- C -->\r\n      <g transform=\"translate(153.963872 239.238437)scale(0.1 -0.1)\">\r\n       <defs>\r\n        <path d=\"M 4122 4306 \r\nL 4122 3641 \r\nQ 3803 3938 3442 4084 \r\nQ 3081 4231 2675 4231 \r\nQ 1875 4231 1450 3742 \r\nQ 1025 3253 1025 2328 \r\nQ 1025 1406 1450 917 \r\nQ 1875 428 2675 428 \r\nQ 3081 428 3442 575 \r\nQ 3803 722 4122 1019 \r\nL 4122 359 \r\nQ 3791 134 3420 21 \r\nQ 3050 -91 2638 -91 \r\nQ 1578 -91 968 557 \r\nQ 359 1206 359 2328 \r\nQ 359 3453 968 4101 \r\nQ 1578 4750 2638 4750 \r\nQ 3056 4750 3426 4639 \r\nQ 3797 4528 4122 4306 \r\nz\r\n\" id=\"DejaVuSans-43\" transform=\"scale(0.015625)\"/>\r\n       </defs>\r\n       <use xlink:href=\"#DejaVuSans-43\"/>\r\n      </g>\r\n     </g>\r\n    </g>\r\n    <g id=\"xtick_3\">\r\n     <g id=\"line2d_3\">\r\n      <g>\r\n       <use style=\"stroke:#000000;stroke-width:0.8;\" x=\"237.550972\" xlink:href=\"#m7ca28e172f\" y=\"224.64\"/>\r\n      </g>\r\n     </g>\r\n     <g id=\"text_3\">\r\n      <!-- G -->\r\n      <g transform=\"translate(233.676753 239.238437)scale(0.1 -0.1)\">\r\n       <defs>\r\n        <path d=\"M 3809 666 \r\nL 3809 1919 \r\nL 2778 1919 \r\nL 2778 2438 \r\nL 4434 2438 \r\nL 4434 434 \r\nQ 4069 175 3628 42 \r\nQ 3188 -91 2688 -91 \r\nQ 1594 -91 976 548 \r\nQ 359 1188 359 2328 \r\nQ 359 3472 976 4111 \r\nQ 1594 4750 2688 4750 \r\nQ 3144 4750 3555 4637 \r\nQ 3966 4525 4313 4306 \r\nL 4313 3634 \r\nQ 3963 3931 3569 4081 \r\nQ 3175 4231 2741 4231 \r\nQ 1884 4231 1454 3753 \r\nQ 1025 3275 1025 2328 \r\nQ 1025 1384 1454 906 \r\nQ 1884 428 2741 428 \r\nQ 3075 428 3337 486 \r\nQ 3600 544 3809 666 \r\nz\r\n\" id=\"DejaVuSans-47\" transform=\"scale(0.015625)\"/>\r\n       </defs>\r\n       <use xlink:href=\"#DejaVuSans-47\"/>\r\n      </g>\r\n     </g>\r\n    </g>\r\n    <g id=\"xtick_4\">\r\n     <g id=\"line2d_4\">\r\n      <g>\r\n       <use style=\"stroke:#000000;stroke-width:0.8;\" x=\"317.646666\" xlink:href=\"#m7ca28e172f\" y=\"224.64\"/>\r\n      </g>\r\n     </g>\r\n     <g id=\"text_4\">\r\n      <!-- T -->\r\n      <g transform=\"translate(314.592759 239.238437)scale(0.1 -0.1)\">\r\n       <defs>\r\n        <path d=\"M -19 4666 \r\nL 3928 4666 \r\nL 3928 4134 \r\nL 2272 4134 \r\nL 2272 0 \r\nL 1638 0 \r\nL 1638 4134 \r\nL -19 4134 \r\nL -19 4666 \r\nz\r\n\" id=\"DejaVuSans-54\" transform=\"scale(0.015625)\"/>\r\n       </defs>\r\n       <use xlink:href=\"#DejaVuSans-54\"/>\r\n      </g>\r\n     </g>\r\n    </g>\r\n   </g>\r\n   <g id=\"matplotlib.axis_2\">\r\n    <g id=\"ytick_1\">\r\n     <g id=\"line2d_5\">\r\n      <defs>\r\n       <path d=\"M 0 0 \r\nL -3.5 0 \r\n\" id=\"m2eca78c844\" style=\"stroke:#000000;stroke-width:0.8;\"/>\r\n      </defs>\r\n      <g>\r\n       <use style=\"stroke:#000000;stroke-width:0.8;\" x=\"30.103125\" xlink:href=\"#m2eca78c844\" y=\"224.64\"/>\r\n      </g>\r\n     </g>\r\n     <g id=\"text_5\">\r\n      <!-- 0.0 -->\r\n      <g transform=\"translate(7.2 228.439219)scale(0.1 -0.1)\">\r\n       <defs>\r\n        <path d=\"M 2034 4250 \r\nQ 1547 4250 1301 3770 \r\nQ 1056 3291 1056 2328 \r\nQ 1056 1369 1301 889 \r\nQ 1547 409 2034 409 \r\nQ 2525 409 2770 889 \r\nQ 3016 1369 3016 2328 \r\nQ 3016 3291 2770 3770 \r\nQ 2525 4250 2034 4250 \r\nz\r\nM 2034 4750 \r\nQ 2819 4750 3233 4129 \r\nQ 3647 3509 3647 2328 \r\nQ 3647 1150 3233 529 \r\nQ 2819 -91 2034 -91 \r\nQ 1250 -91 836 529 \r\nQ 422 1150 422 2328 \r\nQ 422 3509 836 4129 \r\nQ 1250 4750 2034 4750 \r\nz\r\n\" id=\"DejaVuSans-30\" transform=\"scale(0.015625)\"/>\r\n        <path d=\"M 684 794 \r\nL 1344 794 \r\nL 1344 0 \r\nL 684 0 \r\nL 684 794 \r\nz\r\n\" id=\"DejaVuSans-2e\" transform=\"scale(0.015625)\"/>\r\n       </defs>\r\n       <use xlink:href=\"#DejaVuSans-30\"/>\r\n       <use x=\"63.623047\" xlink:href=\"#DejaVuSans-2e\"/>\r\n       <use x=\"95.410156\" xlink:href=\"#DejaVuSans-30\"/>\r\n      </g>\r\n     </g>\r\n    </g>\r\n    <g id=\"ytick_2\">\r\n     <g id=\"line2d_6\">\r\n      <g>\r\n       <use style=\"stroke:#000000;stroke-width:0.8;\" x=\"30.103125\" xlink:href=\"#m2eca78c844\" y=\"198.754286\"/>\r\n      </g>\r\n     </g>\r\n     <g id=\"text_6\">\r\n      <!-- 0.5 -->\r\n      <g transform=\"translate(7.2 202.553504)scale(0.1 -0.1)\">\r\n       <defs>\r\n        <path d=\"M 691 4666 \r\nL 3169 4666 \r\nL 3169 4134 \r\nL 1269 4134 \r\nL 1269 2991 \r\nQ 1406 3038 1543 3061 \r\nQ 1681 3084 1819 3084 \r\nQ 2600 3084 3056 2656 \r\nQ 3513 2228 3513 1497 \r\nQ 3513 744 3044 326 \r\nQ 2575 -91 1722 -91 \r\nQ 1428 -91 1123 -41 \r\nQ 819 9 494 109 \r\nL 494 744 \r\nQ 775 591 1075 516 \r\nQ 1375 441 1709 441 \r\nQ 2250 441 2565 725 \r\nQ 2881 1009 2881 1497 \r\nQ 2881 1984 2565 2268 \r\nQ 2250 2553 1709 2553 \r\nQ 1456 2553 1204 2497 \r\nQ 953 2441 691 2322 \r\nL 691 4666 \r\nz\r\n\" id=\"DejaVuSans-35\" transform=\"scale(0.015625)\"/>\r\n       </defs>\r\n       <use xlink:href=\"#DejaVuSans-30\"/>\r\n       <use x=\"63.623047\" xlink:href=\"#DejaVuSans-2e\"/>\r\n       <use x=\"95.410156\" xlink:href=\"#DejaVuSans-35\"/>\r\n      </g>\r\n     </g>\r\n    </g>\r\n    <g id=\"ytick_3\">\r\n     <g id=\"line2d_7\">\r\n      <g>\r\n       <use style=\"stroke:#000000;stroke-width:0.8;\" x=\"30.103125\" xlink:href=\"#m2eca78c844\" y=\"172.868571\"/>\r\n      </g>\r\n     </g>\r\n     <g id=\"text_7\">\r\n      <!-- 1.0 -->\r\n      <g transform=\"translate(7.2 176.66779)scale(0.1 -0.1)\">\r\n       <defs>\r\n        <path d=\"M 794 531 \r\nL 1825 531 \r\nL 1825 4091 \r\nL 703 3866 \r\nL 703 4441 \r\nL 1819 4666 \r\nL 2450 4666 \r\nL 2450 531 \r\nL 3481 531 \r\nL 3481 0 \r\nL 794 0 \r\nL 794 531 \r\nz\r\n\" id=\"DejaVuSans-31\" transform=\"scale(0.015625)\"/>\r\n       </defs>\r\n       <use xlink:href=\"#DejaVuSans-31\"/>\r\n       <use x=\"63.623047\" xlink:href=\"#DejaVuSans-2e\"/>\r\n       <use x=\"95.410156\" xlink:href=\"#DejaVuSans-30\"/>\r\n      </g>\r\n     </g>\r\n    </g>\r\n    <g id=\"ytick_4\">\r\n     <g id=\"line2d_8\">\r\n      <g>\r\n       <use style=\"stroke:#000000;stroke-width:0.8;\" x=\"30.103125\" xlink:href=\"#m2eca78c844\" y=\"146.982857\"/>\r\n      </g>\r\n     </g>\r\n     <g id=\"text_8\">\r\n      <!-- 1.5 -->\r\n      <g transform=\"translate(7.2 150.782076)scale(0.1 -0.1)\">\r\n       <use xlink:href=\"#DejaVuSans-31\"/>\r\n       <use x=\"63.623047\" xlink:href=\"#DejaVuSans-2e\"/>\r\n       <use x=\"95.410156\" xlink:href=\"#DejaVuSans-35\"/>\r\n      </g>\r\n     </g>\r\n    </g>\r\n    <g id=\"ytick_5\">\r\n     <g id=\"line2d_9\">\r\n      <g>\r\n       <use style=\"stroke:#000000;stroke-width:0.8;\" x=\"30.103125\" xlink:href=\"#m2eca78c844\" y=\"121.097143\"/>\r\n      </g>\r\n     </g>\r\n     <g id=\"text_9\">\r\n      <!-- 2.0 -->\r\n      <g transform=\"translate(7.2 124.896362)scale(0.1 -0.1)\">\r\n       <defs>\r\n        <path d=\"M 1228 531 \r\nL 3431 531 \r\nL 3431 0 \r\nL 469 0 \r\nL 469 531 \r\nQ 828 903 1448 1529 \r\nQ 2069 2156 2228 2338 \r\nQ 2531 2678 2651 2914 \r\nQ 2772 3150 2772 3378 \r\nQ 2772 3750 2511 3984 \r\nQ 2250 4219 1831 4219 \r\nQ 1534 4219 1204 4116 \r\nQ 875 4013 500 3803 \r\nL 500 4441 \r\nQ 881 4594 1212 4672 \r\nQ 1544 4750 1819 4750 \r\nQ 2544 4750 2975 4387 \r\nQ 3406 4025 3406 3419 \r\nQ 3406 3131 3298 2873 \r\nQ 3191 2616 2906 2266 \r\nQ 2828 2175 2409 1742 \r\nQ 1991 1309 1228 531 \r\nz\r\n\" id=\"DejaVuSans-32\" transform=\"scale(0.015625)\"/>\r\n       </defs>\r\n       <use xlink:href=\"#DejaVuSans-32\"/>\r\n       <use x=\"63.623047\" xlink:href=\"#DejaVuSans-2e\"/>\r\n       <use x=\"95.410156\" xlink:href=\"#DejaVuSans-30\"/>\r\n      </g>\r\n     </g>\r\n    </g>\r\n    <g id=\"ytick_6\">\r\n     <g id=\"line2d_10\">\r\n      <g>\r\n       <use style=\"stroke:#000000;stroke-width:0.8;\" x=\"30.103125\" xlink:href=\"#m2eca78c844\" y=\"95.211429\"/>\r\n      </g>\r\n     </g>\r\n     <g id=\"text_10\">\r\n      <!-- 2.5 -->\r\n      <g transform=\"translate(7.2 99.010647)scale(0.1 -0.1)\">\r\n       <use xlink:href=\"#DejaVuSans-32\"/>\r\n       <use x=\"63.623047\" xlink:href=\"#DejaVuSans-2e\"/>\r\n       <use x=\"95.410156\" xlink:href=\"#DejaVuSans-35\"/>\r\n      </g>\r\n     </g>\r\n    </g>\r\n    <g id=\"ytick_7\">\r\n     <g id=\"line2d_11\">\r\n      <g>\r\n       <use style=\"stroke:#000000;stroke-width:0.8;\" x=\"30.103125\" xlink:href=\"#m2eca78c844\" y=\"69.325714\"/>\r\n      </g>\r\n     </g>\r\n     <g id=\"text_11\">\r\n      <!-- 3.0 -->\r\n      <g transform=\"translate(7.2 73.124933)scale(0.1 -0.1)\">\r\n       <defs>\r\n        <path d=\"M 2597 2516 \r\nQ 3050 2419 3304 2112 \r\nQ 3559 1806 3559 1356 \r\nQ 3559 666 3084 287 \r\nQ 2609 -91 1734 -91 \r\nQ 1441 -91 1130 -33 \r\nQ 819 25 488 141 \r\nL 488 750 \r\nQ 750 597 1062 519 \r\nQ 1375 441 1716 441 \r\nQ 2309 441 2620 675 \r\nQ 2931 909 2931 1356 \r\nQ 2931 1769 2642 2001 \r\nQ 2353 2234 1838 2234 \r\nL 1294 2234 \r\nL 1294 2753 \r\nL 1863 2753 \r\nQ 2328 2753 2575 2939 \r\nQ 2822 3125 2822 3475 \r\nQ 2822 3834 2567 4026 \r\nQ 2313 4219 1838 4219 \r\nQ 1578 4219 1281 4162 \r\nQ 984 4106 628 3988 \r\nL 628 4550 \r\nQ 988 4650 1302 4700 \r\nQ 1616 4750 1894 4750 \r\nQ 2613 4750 3031 4423 \r\nQ 3450 4097 3450 3541 \r\nQ 3450 3153 3228 2886 \r\nQ 3006 2619 2597 2516 \r\nz\r\n\" id=\"DejaVuSans-33\" transform=\"scale(0.015625)\"/>\r\n       </defs>\r\n       <use xlink:href=\"#DejaVuSans-33\"/>\r\n       <use x=\"63.623047\" xlink:href=\"#DejaVuSans-2e\"/>\r\n       <use x=\"95.410156\" xlink:href=\"#DejaVuSans-30\"/>\r\n      </g>\r\n     </g>\r\n    </g>\r\n    <g id=\"ytick_8\">\r\n     <g id=\"line2d_12\">\r\n      <g>\r\n       <use style=\"stroke:#000000;stroke-width:0.8;\" x=\"30.103125\" xlink:href=\"#m2eca78c844\" y=\"43.44\"/>\r\n      </g>\r\n     </g>\r\n     <g id=\"text_12\">\r\n      <!-- 3.5 -->\r\n      <g transform=\"translate(7.2 47.239219)scale(0.1 -0.1)\">\r\n       <use xlink:href=\"#DejaVuSans-33\"/>\r\n       <use x=\"63.623047\" xlink:href=\"#DejaVuSans-2e\"/>\r\n       <use x=\"95.410156\" xlink:href=\"#DejaVuSans-35\"/>\r\n      </g>\r\n     </g>\r\n    </g>\r\n    <g id=\"ytick_9\">\r\n     <g id=\"line2d_13\">\r\n      <g>\r\n       <use style=\"stroke:#000000;stroke-width:0.8;\" x=\"30.103125\" xlink:href=\"#m2eca78c844\" y=\"17.554286\"/>\r\n      </g>\r\n     </g>\r\n     <g id=\"text_13\">\r\n      <!-- 4.0 -->\r\n      <g transform=\"translate(7.2 21.353504)scale(0.1 -0.1)\">\r\n       <defs>\r\n        <path d=\"M 2419 4116 \r\nL 825 1625 \r\nL 2419 1625 \r\nL 2419 4116 \r\nz\r\nM 2253 4666 \r\nL 3047 4666 \r\nL 3047 1625 \r\nL 3713 1625 \r\nL 3713 1100 \r\nL 3047 1100 \r\nL 3047 0 \r\nL 2419 0 \r\nL 2419 1100 \r\nL 313 1100 \r\nL 313 1709 \r\nL 2253 4666 \r\nz\r\n\" id=\"DejaVuSans-34\" transform=\"scale(0.015625)\"/>\r\n       </defs>\r\n       <use xlink:href=\"#DejaVuSans-34\"/>\r\n       <use x=\"63.623047\" xlink:href=\"#DejaVuSans-2e\"/>\r\n       <use x=\"95.410156\" xlink:href=\"#DejaVuSans-30\"/>\r\n      </g>\r\n     </g>\r\n    </g>\r\n   </g>\r\n   <g id=\"patch_7\">\r\n    <path d=\"M 30.103125 224.64 \r\nL 30.103125 7.2 \r\n\" style=\"fill:none;stroke:#000000;stroke-linecap:square;stroke-linejoin:miter;stroke-width:0.8;\"/>\r\n   </g>\r\n   <g id=\"patch_8\">\r\n    <path d=\"M 364.903125 224.64 \r\nL 364.903125 7.2 \r\n\" style=\"fill:none;stroke:#000000;stroke-linecap:square;stroke-linejoin:miter;stroke-width:0.8;\"/>\r\n   </g>\r\n   <g id=\"patch_9\">\r\n    <path d=\"M 30.103125 224.64 \r\nL 364.903125 224.64 \r\n\" style=\"fill:none;stroke:#000000;stroke-linecap:square;stroke-linejoin:miter;stroke-width:0.8;\"/>\r\n   </g>\r\n   <g id=\"patch_10\">\r\n    <path d=\"M 30.103125 7.2 \r\nL 364.903125 7.2 \r\n\" style=\"fill:none;stroke:#000000;stroke-linecap:square;stroke-linejoin:miter;stroke-width:0.8;\"/>\r\n   </g>\r\n  </g>\r\n </g>\r\n <defs>\r\n  <clipPath id=\"p853c965e22\">\r\n   <rect height=\"217.44\" width=\"334.8\" x=\"30.103125\" y=\"7.2\"/>\r\n  </clipPath>\r\n </defs>\r\n</svg>\r\n",
      "image/png": "[encoded data removed]"
     },
     "metadata": {
      "needs_background": "light"
     }
    }
   ],
   "source": [
    "#Plot each nucleotide's frequency\n",
    "import matplotlib.pyplot as plt\n",
    "\n",
    "plt.bar(dna_seq.frequencies().keys(), dna_seq.frequencies().values())"
   ]
  },
  {
   "cell_type": "code",
   "execution_count": 43,
   "metadata": {},
   "outputs": [
    {
     "output_type": "execute_result",
     "data": {
      "text/plain": [
       "{'A': 4, 'C': 2}"
      ]
     },
     "metadata": {},
     "execution_count": 43
    }
   ],
   "source": [
    "#Check for frequency of a particular nucleotide \n",
    "dna_seq.frequencies(chars = {'A','C'})"
   ]
  },
  {
   "source": [
    "# 4) Checking for Similarities using Hamming Distance and K-mer Distance\n",
    "\n",
    "Uses: \n",
    "\n",
    "check dissimilarity\n",
    "\n",
    "sequence clustering \n",
    "\n",
    "phylogenetic reconstruction\n",
    "\n",
    "mismatch and match frequency\n",
    "\n",
    "## Kmer Distance\n",
    "\n",
    "fraction of kmers that are unique to either sequence (find kmers that are not found in each sequence or are dissimilar in each)\n",
    "\n",
    "sum of non-intersection\n",
    "\n",
    "nb: L-k+1 kmers and n^k possible kmers\n",
    "\n",
    "Uses: \n",
    "\n",
    "assemble DNA sequences\n",
    "\n",
    "improve heterologous gene expression\n",
    "\n",
    "identify species in metagenomics\n",
    "\n",
    "create attenuated (vaccine created by reducing the virulence of a pathogen, but still keeping it viable (or \"live\")) vaccines"
   ],
   "cell_type": "markdown",
   "metadata": {}
  },
  {
   "cell_type": "code",
   "execution_count": 2,
   "metadata": {},
   "outputs": [],
   "source": [
    "from skbio import DNA"
   ]
  },
  {
   "cell_type": "code",
   "execution_count": 3,
   "metadata": {},
   "outputs": [],
   "source": [
    "seq1 = DNA(\"ACTATCAGT\")\n",
    "seq2 = DNA(\"ACTTACAGT\")"
   ]
  },
  {
   "cell_type": "code",
   "execution_count": 6,
   "metadata": {},
   "outputs": [
    {
     "output_type": "execute_result",
     "data": {
      "text/plain": [
       "array([False, False, False,  True,  True, False, False, False, False])"
      ]
     },
     "metadata": {},
     "execution_count": 6
    }
   ],
   "source": [
    "#Calculate matches and mismatches\n",
    "seq1.match_frequency(seq2) #7\n",
    "\n",
    "#Calculate match only as booleans\n",
    "seq1.matches(seq2) #array([ True,  True,  True, False, False,  True,  True,  True,  True])\n",
    "\n",
    "#Calculate mismatch only as booleans\n",
    "seq1.mismatches(seq2) #array([False, False, False,  True,  True, False, False, False, False])\n",
    "\n"
   ]
  },
  {
   "source": [
    "## Hamming Distance"
   ],
   "cell_type": "markdown",
   "metadata": {}
  },
  {
   "cell_type": "code",
   "execution_count": 11,
   "metadata": {},
   "outputs": [],
   "source": [
    "from skbio.sequence.distance import hamming"
   ]
  },
  {
   "cell_type": "code",
   "execution_count": 12,
   "metadata": {},
   "outputs": [
    {
     "output_type": "execute_result",
     "data": {
      "text/plain": [
       "0.2222222222222222"
      ]
     },
     "metadata": {},
     "execution_count": 12
    }
   ],
   "source": [
    "#Get hamming distance\n",
    "hamming(seq1,seq2)"
   ]
  },
  {
   "cell_type": "code",
   "execution_count": 7,
   "metadata": {},
   "outputs": [
    {
     "output_type": "execute_result",
     "data": {
      "text/plain": [
       "0.2222222222222222"
      ]
     },
     "metadata": {},
     "execution_count": 7
    }
   ],
   "source": [
    "# OR without importing hamming\n",
    "seq1.distance(seq2) "
   ]
  },
  {
   "cell_type": "code",
   "execution_count": 8,
   "metadata": {},
   "outputs": [
    {
     "output_type": "execute_result",
     "data": {
      "text/plain": [
       "2"
      ]
     },
     "metadata": {},
     "execution_count": 8
    }
   ],
   "source": [
    "#Custom Hamming Distance function\n",
    "def custom_hamming_distance(seq1,seq2):\n",
    "    return len([(x,y) for x,y in zip(seq1,seq2) if x != y])\n",
    "\n",
    "custom_hamming_distance(seq1,seq2)"
   ]
  },
  {
   "source": [
    "## K-mer Distance -  dissimilarity"
   ],
   "cell_type": "markdown",
   "metadata": {}
  },
  {
   "cell_type": "code",
   "execution_count": 10,
   "metadata": {},
   "outputs": [],
   "source": [
    "from skbio.sequence.distance import kmer_distance"
   ]
  },
  {
   "cell_type": "code",
   "execution_count": 16,
   "metadata": {},
   "outputs": [
    {
     "output_type": "stream",
     "name": "stdout",
     "text": [
      "{'ACT': 1, 'CTA': 1, 'TAT': 1, 'ATC': 1, 'TCA': 1, 'CAG': 1, 'AGT': 1}\n{'ACT': 1, 'CTT': 1, 'TTA': 1, 'TAC': 1, 'ACA': 1, 'CAG': 1, 'AGT': 1}\n"
     ]
    }
   ],
   "source": [
    "print(seq1.kmer_frequencies(3))\n",
    "print(seq2.kmer_frequencies(3))\n",
    "\n",
    "#In total we see 8 differences (4 on each sequence)"
   ]
  },
  {
   "cell_type": "code",
   "execution_count": 19,
   "metadata": {},
   "outputs": [
    {
     "output_type": "execute_result",
     "data": {
      "text/plain": [
       "0.7272727272727273"
      ]
     },
     "metadata": {},
     "execution_count": 19
    }
   ],
   "source": [
    "#Get K-mer distance\n",
    "kmer_distance(seq1,seq2,3) "
   ]
  },
  {
   "cell_type": "code",
   "execution_count": 37,
   "metadata": {},
   "outputs": [
    {
     "output_type": "stream",
     "name": "stdout",
     "text": [
      "Dissimilarity: 8\nK-mer Distance: 0.7272727272727273\n"
     ]
    }
   ],
   "source": [
    "#Custom k-mer function\n",
    "#Set, Intersection, Dissimilar\n",
    "def custom_kmer_function(seq1,seq2):\n",
    "    seq1_set = set(seq1)\n",
    "    seq2_set = set(seq2)\n",
    "\n",
    "    #dissimilarity = union - intersection\n",
    "\n",
    "    union_sequence = seq1_set.union(seq2_set)\n",
    "    intersection_sequence = seq1_set.intersection(seq2_set)\n",
    "\n",
    "    dissimilarity = len(union_sequence) - len(intersection_sequence)\n",
    "\n",
    "    print(f\"Dissimilarity: {dissimilarity}\")\n",
    "\n",
    "    distance = dissimilarity / len(union_sequence)\n",
    "\n",
    "    print(f\"K-mer Distance: {distance}\")\n",
    "\n",
    "seq1_values = seq1.kmer_frequencies(3).keys()\n",
    "seq2_values = seq2.kmer_frequencies(3).keys()\n",
    "\n",
    "custom_kmer_function(seq1_values,seq2_values)"
   ]
  },
  {
   "cell_type": "code",
   "execution_count": 38,
   "metadata": {},
   "outputs": [
    {
     "output_type": "stream",
     "name": "stdout",
     "text": [
      "Dissimilarity: {'TAT', 'TAC', 'TTA', 'CTT', 'ATC', 'ACA', 'CTA', 'TCA'}\nK-mer Distance: 0.7272727272727273\n"
     ]
    }
   ],
   "source": [
    "#Smaller custom function without using intersection concretely\n",
    "def custom_kmer_function_smaller(seq1,seq2):\n",
    "    seq1_set = set(seq1)\n",
    "    seq2_set = set(seq2)\n",
    "    \n",
    "    union_sequence = seq1_set.union(seq2_set)\n",
    "\n",
    "    dissimilarity_smaller = seq1_set ^ seq2_set #caret - see all kmers that do not match between each     string at corresponding positions\n",
    "    \n",
    "    print(f\"Dissimilarity: {dissimilarity_smaller}\")\n",
    "\n",
    "    distance = len(dissimilarity_smaller) / len(union_sequence)\n",
    "\n",
    "    print(f\"K-mer Distance: {distance}\")\n",
    "\n",
    "seq1_values = seq1.kmer_frequencies(3).keys()\n",
    "seq2_values = seq2.kmer_frequencies(3).keys()\n",
    "\n",
    "custom_kmer_function_smaller(seq1_values,seq2_values)"
   ]
  },
  {
   "cell_type": "code",
   "execution_count": 39,
   "metadata": {},
   "outputs": [
    {
     "output_type": "stream",
     "name": "stdout",
     "text": [
      "{'TAT', 'TAC', 'TTA', 'CTT', 'ATC', 'ACA', 'CTA', 'TCA'}\n"
     ]
    },
    {
     "output_type": "execute_result",
     "data": {
      "text/plain": [
       "8"
      ]
     },
     "metadata": {},
     "execution_count": 39
    }
   ],
   "source": [
    "# OR using Symmetric Difference to see all kmers that do not match between each string at corresponding positions\n",
    "print(set(seq1_values).symmetric_difference(seq2_values))\n",
    "len(set(seq1_values).symmetric_difference(seq2_values))"
   ]
  },
  {
   "source": [
    "## 5) K-mers and K-mer Frequency"
   ],
   "cell_type": "markdown",
   "metadata": {}
  },
  {
   "cell_type": "code",
   "execution_count": 46,
   "metadata": {},
   "outputs": [
    {
     "output_type": "stream",
     "name": "stdout",
     "text": [
      "ATGATCTCGTAA\n"
     ]
    },
    {
     "output_type": "execute_result",
     "data": {
      "text/plain": [
       "{'ATG': 1,\n",
       " 'TGA': 1,\n",
       " 'GAT': 1,\n",
       " 'ATC': 1,\n",
       " 'TCT': 1,\n",
       " 'CTC': 1,\n",
       " 'TCG': 1,\n",
       " 'CGT': 1,\n",
       " 'GTA': 1,\n",
       " 'TAA': 1}"
      ]
     },
     "metadata": {},
     "execution_count": 46
    }
   ],
   "source": [
    "#Working with k-mers\n",
    "print(dna_seq)\n",
    "#first 3-kmer = ATG .....\n",
    "\n",
    "#Find K-mers \n",
    "dna_seq.kmer_frequencies(3)"
   ]
  },
  {
   "cell_type": "code",
   "execution_count": 54,
   "metadata": {},
   "outputs": [
    {
     "output_type": "execute_result",
     "data": {
      "text/plain": [
       "{'ATG': 1,\n",
       " 'TGA': 1,\n",
       " 'GAT': 1,\n",
       " 'ATC': 1,\n",
       " 'TCT': 1,\n",
       " 'CTC': 1,\n",
       " 'TCG': 1,\n",
       " 'CGT': 1,\n",
       " 'GTA': 1,\n",
       " 'TAA': 1}"
      ]
     },
     "metadata": {},
     "execution_count": 54
    }
   ],
   "source": [
    "#Custom kmer function\n",
    "#L = sequence, K = kmer length desired\n",
    "#total is L-K+1\n",
    "\n",
    "def custom_count_kmers(seq, k):\n",
    "    counts = {}\n",
    "    number_of_kmers = len(seq) - k + 1\n",
    "\n",
    "    for i in range(number_of_kmers):\n",
    "        #Slicing the sequence to get particular k-mer\n",
    "        kmer = seq[i:i+k]\n",
    "        if kmer not in counts:\n",
    "            counts[kmer] = 0\n",
    "        \n",
    "        #Increment to only add kmers not already in dictionary counts\n",
    "        counts[kmer] += 1 \n",
    "    \n",
    "    return counts\n",
    "\n",
    "custom_count_kmers(str(dna_seq),k=3)"
   ]
  },
  {
   "cell_type": "code",
   "execution_count": 56,
   "metadata": {},
   "outputs": [
    {
     "output_type": "stream",
     "name": "stdout",
     "text": [
      "ATG\nTGA\nGAT\nATC\nTCT\nCTC\nTCG\nCGT\nGTA\nTAA\n"
     ]
    }
   ],
   "source": [
    "#Iteration to find all kmers\n",
    "for k in dna_seq.iter_kmers(3, overlap = True):\n",
    "    print(k)"
   ]
  },
  {
   "cell_type": "code",
   "execution_count": 59,
   "metadata": {},
   "outputs": [
    {
     "output_type": "execute_result",
     "data": {
      "text/plain": [
       "<BarContainer object of 37 artists>"
      ]
     },
     "metadata": {},
     "execution_count": 59
    },
    {
     "output_type": "display_data",
     "data": {
      "text/plain": "<Figure size 432x288 with 1 Axes>",
      "image/svg+xml": "<?xml version=\"1.0\" encoding=\"utf-8\" standalone=\"no\"?>\r\n<!DOCTYPE svg PUBLIC \"-//W3C//DTD SVG 1.1//EN\"\r\n  \"http://www.w3.org/Graphics/SVG/1.1/DTD/svg11.dtd\">\r\n<svg height=\"248.518125pt\" version=\"1.1\" viewBox=\"0 0 362.5625 248.518125\" width=\"362.5625pt\" xmlns=\"http://www.w3.org/2000/svg\" xmlns:xlink=\"http://www.w3.org/1999/xlink\">\r\n <metadata>\r\n  <rdf:RDF xmlns:cc=\"http://creativecommons.org/ns#\" xmlns:dc=\"http://purl.org/dc/elements/1.1/\" xmlns:rdf=\"http://www.w3.org/1999/02/22-rdf-syntax-ns#\">\r\n   <cc:Work>\r\n    <dc:type rdf:resource=\"http://purl.org/dc/dcmitype/StillImage\"/>\r\n    <dc:date>2021-04-19T13:10:43.729025</dc:date>\r\n    <dc:format>image/svg+xml</dc:format>\r\n    <dc:creator>\r\n     <cc:Agent>\r\n      <dc:title>Matplotlib v3.4.0, https://matplotlib.org/</dc:title>\r\n     </cc:Agent>\r\n    </dc:creator>\r\n   </cc:Work>\r\n  </rdf:RDF>\r\n </metadata>\r\n <defs>\r\n  <style type=\"text/css\">*{stroke-linecap:butt;stroke-linejoin:round;}</style>\r\n </defs>\r\n <g id=\"figure_1\">\r\n  <g id=\"patch_1\">\r\n   <path d=\"M 0 248.518125 \r\nL 362.5625 248.518125 \r\nL 362.5625 0 \r\nL 0 0 \r\nz\r\n\" style=\"fill:none;\"/>\r\n  </g>\r\n  <g id=\"axes_1\">\r\n   <g id=\"patch_2\">\r\n    <path d=\"M 20.5625 224.64 \r\nL 355.3625 224.64 \r\nL 355.3625 7.2 \r\nL 20.5625 7.2 \r\nz\r\n\" style=\"fill:#ffffff;\"/>\r\n   </g>\r\n   <g id=\"patch_3\">\r\n    <path clip-path=\"url(#pc9ff4fc1dc)\" d=\"M 35.780682 224.64 \r\nL 42.397283 224.64 \r\nL 42.397283 183.222857 \r\nL 35.780682 183.222857 \r\nz\r\n\" style=\"fill:#1f77b4;\"/>\r\n   </g>\r\n   <g id=\"patch_4\">\r\n    <path clip-path=\"url(#pc9ff4fc1dc)\" d=\"M 44.051433 224.64 \r\nL 50.668034 224.64 \r\nL 50.668034 141.805714 \r\nL 44.051433 141.805714 \r\nz\r\n\" style=\"fill:#1f77b4;\"/>\r\n   </g>\r\n   <g id=\"patch_5\">\r\n    <path clip-path=\"url(#pc9ff4fc1dc)\" d=\"M 52.322184 224.64 \r\nL 58.938785 224.64 \r\nL 58.938785 100.388571 \r\nL 52.322184 100.388571 \r\nz\r\n\" style=\"fill:#1f77b4;\"/>\r\n   </g>\r\n   <g id=\"patch_6\">\r\n    <path clip-path=\"url(#pc9ff4fc1dc)\" d=\"M 60.592935 224.64 \r\nL 67.209536 224.64 \r\nL 67.209536 100.388571 \r\nL 60.592935 100.388571 \r\nz\r\n\" style=\"fill:#1f77b4;\"/>\r\n   </g>\r\n   <g id=\"patch_7\">\r\n    <path clip-path=\"url(#pc9ff4fc1dc)\" d=\"M 68.863686 224.64 \r\nL 75.480287 224.64 \r\nL 75.480287 183.222857 \r\nL 68.863686 183.222857 \r\nz\r\n\" style=\"fill:#1f77b4;\"/>\r\n   </g>\r\n   <g id=\"patch_8\">\r\n    <path clip-path=\"url(#pc9ff4fc1dc)\" d=\"M 77.134437 224.64 \r\nL 83.751038 224.64 \r\nL 83.751038 141.805714 \r\nL 77.134437 141.805714 \r\nz\r\n\" style=\"fill:#1f77b4;\"/>\r\n   </g>\r\n   <g id=\"patch_9\">\r\n    <path clip-path=\"url(#pc9ff4fc1dc)\" d=\"M 85.405188 224.64 \r\nL 92.021789 224.64 \r\nL 92.021789 141.805714 \r\nL 85.405188 141.805714 \r\nz\r\n\" style=\"fill:#1f77b4;\"/>\r\n   </g>\r\n   <g id=\"patch_10\">\r\n    <path clip-path=\"url(#pc9ff4fc1dc)\" d=\"M 93.675939 224.64 \r\nL 100.29254 224.64 \r\nL 100.29254 141.805714 \r\nL 93.675939 141.805714 \r\nz\r\n\" style=\"fill:#1f77b4;\"/>\r\n   </g>\r\n   <g id=\"patch_11\">\r\n    <path clip-path=\"url(#pc9ff4fc1dc)\" d=\"M 101.94669 224.64 \r\nL 108.563291 224.64 \r\nL 108.563291 141.805714 \r\nL 101.94669 141.805714 \r\nz\r\n\" style=\"fill:#1f77b4;\"/>\r\n   </g>\r\n   <g id=\"patch_12\">\r\n    <path clip-path=\"url(#pc9ff4fc1dc)\" d=\"M 110.217441 224.64 \r\nL 116.834042 224.64 \r\nL 116.834042 183.222857 \r\nL 110.217441 183.222857 \r\nz\r\n\" style=\"fill:#1f77b4;\"/>\r\n   </g>\r\n   <g id=\"patch_13\">\r\n    <path clip-path=\"url(#pc9ff4fc1dc)\" d=\"M 118.488192 224.64 \r\nL 125.104792 224.64 \r\nL 125.104792 183.222857 \r\nL 118.488192 183.222857 \r\nz\r\n\" style=\"fill:#1f77b4;\"/>\r\n   </g>\r\n   <g id=\"patch_14\">\r\n    <path clip-path=\"url(#pc9ff4fc1dc)\" d=\"M 126.758943 224.64 \r\nL 133.375543 224.64 \r\nL 133.375543 183.222857 \r\nL 126.758943 183.222857 \r\nz\r\n\" style=\"fill:#1f77b4;\"/>\r\n   </g>\r\n   <g id=\"patch_15\">\r\n    <path clip-path=\"url(#pc9ff4fc1dc)\" d=\"M 135.029694 224.64 \r\nL 141.646294 224.64 \r\nL 141.646294 100.388571 \r\nL 135.029694 100.388571 \r\nz\r\n\" style=\"fill:#1f77b4;\"/>\r\n   </g>\r\n   <g id=\"patch_16\">\r\n    <path clip-path=\"url(#pc9ff4fc1dc)\" d=\"M 143.300445 224.64 \r\nL 149.917045 224.64 \r\nL 149.917045 183.222857 \r\nL 143.300445 183.222857 \r\nz\r\n\" style=\"fill:#1f77b4;\"/>\r\n   </g>\r\n   <g id=\"patch_17\">\r\n    <path clip-path=\"url(#pc9ff4fc1dc)\" d=\"M 151.571196 224.64 \r\nL 158.187796 224.64 \r\nL 158.187796 100.388571 \r\nL 151.571196 100.388571 \r\nz\r\n\" style=\"fill:#1f77b4;\"/>\r\n   </g>\r\n   <g id=\"patch_18\">\r\n    <path clip-path=\"url(#pc9ff4fc1dc)\" d=\"M 159.841947 224.64 \r\nL 166.458547 224.64 \r\nL 166.458547 100.388571 \r\nL 159.841947 100.388571 \r\nz\r\n\" style=\"fill:#1f77b4;\"/>\r\n   </g>\r\n   <g id=\"patch_19\">\r\n    <path clip-path=\"url(#pc9ff4fc1dc)\" d=\"M 168.112698 224.64 \r\nL 174.729298 224.64 \r\nL 174.729298 183.222857 \r\nL 168.112698 183.222857 \r\nz\r\n\" style=\"fill:#1f77b4;\"/>\r\n   </g>\r\n   <g id=\"patch_20\">\r\n    <path clip-path=\"url(#pc9ff4fc1dc)\" d=\"M 176.383449 224.64 \r\nL 183.000049 224.64 \r\nL 183.000049 183.222857 \r\nL 176.383449 183.222857 \r\nz\r\n\" style=\"fill:#1f77b4;\"/>\r\n   </g>\r\n   <g id=\"patch_21\">\r\n    <path clip-path=\"url(#pc9ff4fc1dc)\" d=\"M 184.6542 224.64 \r\nL 191.2708 224.64 \r\nL 191.2708 100.388571 \r\nL 184.6542 100.388571 \r\nz\r\n\" style=\"fill:#1f77b4;\"/>\r\n   </g>\r\n   <g id=\"patch_22\">\r\n    <path clip-path=\"url(#pc9ff4fc1dc)\" d=\"M 192.924951 224.64 \r\nL 199.541551 224.64 \r\nL 199.541551 183.222857 \r\nL 192.924951 183.222857 \r\nz\r\n\" style=\"fill:#1f77b4;\"/>\r\n   </g>\r\n   <g id=\"patch_23\">\r\n    <path clip-path=\"url(#pc9ff4fc1dc)\" d=\"M 201.195702 224.64 \r\nL 207.812302 224.64 \r\nL 207.812302 141.805714 \r\nL 201.195702 141.805714 \r\nz\r\n\" style=\"fill:#1f77b4;\"/>\r\n   </g>\r\n   <g id=\"patch_24\">\r\n    <path clip-path=\"url(#pc9ff4fc1dc)\" d=\"M 209.466453 224.64 \r\nL 216.083053 224.64 \r\nL 216.083053 58.971429 \r\nL 209.466453 58.971429 \r\nz\r\n\" style=\"fill:#1f77b4;\"/>\r\n   </g>\r\n   <g id=\"patch_25\">\r\n    <path clip-path=\"url(#pc9ff4fc1dc)\" d=\"M 217.737204 224.64 \r\nL 224.353804 224.64 \r\nL 224.353804 183.222857 \r\nL 217.737204 183.222857 \r\nz\r\n\" style=\"fill:#1f77b4;\"/>\r\n   </g>\r\n   <g id=\"patch_26\">\r\n    <path clip-path=\"url(#pc9ff4fc1dc)\" d=\"M 226.007955 224.64 \r\nL 232.624555 224.64 \r\nL 232.624555 100.388571 \r\nL 226.007955 100.388571 \r\nz\r\n\" style=\"fill:#1f77b4;\"/>\r\n   </g>\r\n   <g id=\"patch_27\">\r\n    <path clip-path=\"url(#pc9ff4fc1dc)\" d=\"M 234.278706 224.64 \r\nL 240.895306 224.64 \r\nL 240.895306 183.222857 \r\nL 234.278706 183.222857 \r\nz\r\n\" style=\"fill:#1f77b4;\"/>\r\n   </g>\r\n   <g id=\"patch_28\">\r\n    <path clip-path=\"url(#pc9ff4fc1dc)\" d=\"M 242.549457 224.64 \r\nL 249.166057 224.64 \r\nL 249.166057 183.222857 \r\nL 242.549457 183.222857 \r\nz\r\n\" style=\"fill:#1f77b4;\"/>\r\n   </g>\r\n   <g id=\"patch_29\">\r\n    <path clip-path=\"url(#pc9ff4fc1dc)\" d=\"M 250.820208 224.64 \r\nL 257.436808 224.64 \r\nL 257.436808 183.222857 \r\nL 250.820208 183.222857 \r\nz\r\n\" style=\"fill:#1f77b4;\"/>\r\n   </g>\r\n   <g id=\"patch_30\">\r\n    <path clip-path=\"url(#pc9ff4fc1dc)\" d=\"M 259.090958 224.64 \r\nL 265.707559 224.64 \r\nL 265.707559 141.805714 \r\nL 259.090958 141.805714 \r\nz\r\n\" style=\"fill:#1f77b4;\"/>\r\n   </g>\r\n   <g id=\"patch_31\">\r\n    <path clip-path=\"url(#pc9ff4fc1dc)\" d=\"M 267.361709 224.64 \r\nL 273.97831 224.64 \r\nL 273.97831 141.805714 \r\nL 267.361709 141.805714 \r\nz\r\n\" style=\"fill:#1f77b4;\"/>\r\n   </g>\r\n   <g id=\"patch_32\">\r\n    <path clip-path=\"url(#pc9ff4fc1dc)\" d=\"M 275.63246 224.64 \r\nL 282.249061 224.64 \r\nL 282.249061 17.554286 \r\nL 275.63246 17.554286 \r\nz\r\n\" style=\"fill:#1f77b4;\"/>\r\n   </g>\r\n   <g id=\"patch_33\">\r\n    <path clip-path=\"url(#pc9ff4fc1dc)\" d=\"M 283.903211 224.64 \r\nL 290.519812 224.64 \r\nL 290.519812 141.805714 \r\nL 283.903211 141.805714 \r\nz\r\n\" style=\"fill:#1f77b4;\"/>\r\n   </g>\r\n   <g id=\"patch_34\">\r\n    <path clip-path=\"url(#pc9ff4fc1dc)\" d=\"M 292.173962 224.64 \r\nL 298.790563 224.64 \r\nL 298.790563 183.222857 \r\nL 292.173962 183.222857 \r\nz\r\n\" style=\"fill:#1f77b4;\"/>\r\n   </g>\r\n   <g id=\"patch_35\">\r\n    <path clip-path=\"url(#pc9ff4fc1dc)\" d=\"M 300.444713 224.64 \r\nL 307.061314 224.64 \r\nL 307.061314 141.805714 \r\nL 300.444713 141.805714 \r\nz\r\n\" style=\"fill:#1f77b4;\"/>\r\n   </g>\r\n   <g id=\"patch_36\">\r\n    <path clip-path=\"url(#pc9ff4fc1dc)\" d=\"M 308.715464 224.64 \r\nL 315.332065 224.64 \r\nL 315.332065 183.222857 \r\nL 308.715464 183.222857 \r\nz\r\n\" style=\"fill:#1f77b4;\"/>\r\n   </g>\r\n   <g id=\"patch_37\">\r\n    <path clip-path=\"url(#pc9ff4fc1dc)\" d=\"M 316.986215 224.64 \r\nL 323.602816 224.64 \r\nL 323.602816 183.222857 \r\nL 316.986215 183.222857 \r\nz\r\n\" style=\"fill:#1f77b4;\"/>\r\n   </g>\r\n   <g id=\"patch_38\">\r\n    <path clip-path=\"url(#pc9ff4fc1dc)\" d=\"M 325.256966 224.64 \r\nL 331.873567 224.64 \r\nL 331.873567 183.222857 \r\nL 325.256966 183.222857 \r\nz\r\n\" style=\"fill:#1f77b4;\"/>\r\n   </g>\r\n   <g id=\"patch_39\">\r\n    <path clip-path=\"url(#pc9ff4fc1dc)\" d=\"M 333.527717 224.64 \r\nL 340.144318 224.64 \r\nL 340.144318 183.222857 \r\nL 333.527717 183.222857 \r\nz\r\n\" style=\"fill:#1f77b4;\"/>\r\n   </g>\r\n   <g id=\"matplotlib.axis_1\">\r\n    <g id=\"xtick_1\">\r\n     <g id=\"line2d_1\">\r\n      <defs>\r\n       <path d=\"M 0 0 \r\nL 0 3.5 \r\n\" id=\"ma96f8d409f\" style=\"stroke:#000000;stroke-width:0.8;\"/>\r\n      </defs>\r\n      <g>\r\n       <use style=\"stroke:#000000;stroke-width:0.8;\" x=\"39.088982\" xlink:href=\"#ma96f8d409f\" y=\"224.64\"/>\r\n      </g>\r\n     </g>\r\n     <g id=\"text_1\">\r\n      <!-- ATT -->\r\n      <g transform=\"translate(30.035857 239.238437)scale(0.1 -0.1)\">\r\n       <defs>\r\n        <path d=\"M 2188 4044 \r\nL 1331 1722 \r\nL 3047 1722 \r\nL 2188 4044 \r\nz\r\nM 1831 4666 \r\nL 2547 4666 \r\nL 4325 0 \r\nL 3669 0 \r\nL 3244 1197 \r\nL 1141 1197 \r\nL 716 0 \r\nL 50 0 \r\nL 1831 4666 \r\nz\r\n\" id=\"DejaVuSans-41\" transform=\"scale(0.015625)\"/>\r\n        <path d=\"M -19 4666 \r\nL 3928 4666 \r\nL 3928 4134 \r\nL 2272 4134 \r\nL 2272 0 \r\nL 1638 0 \r\nL 1638 4134 \r\nL -19 4134 \r\nL -19 4666 \r\nz\r\n\" id=\"DejaVuSans-54\" transform=\"scale(0.015625)\"/>\r\n       </defs>\r\n       <use xlink:href=\"#DejaVuSans-41\"/>\r\n       <use x=\"60.658203\" xlink:href=\"#DejaVuSans-54\"/>\r\n       <use x=\"119.992188\" xlink:href=\"#DejaVuSans-54\"/>\r\n      </g>\r\n     </g>\r\n    </g>\r\n    <g id=\"xtick_2\">\r\n     <g id=\"line2d_2\">\r\n      <g>\r\n       <use style=\"stroke:#000000;stroke-width:0.8;\" x=\"47.359733\" xlink:href=\"#ma96f8d409f\" y=\"224.64\"/>\r\n      </g>\r\n     </g>\r\n     <g id=\"text_2\">\r\n      <!-- TTA -->\r\n      <g transform=\"translate(38.306608 239.238437)scale(0.1 -0.1)\">\r\n       <use xlink:href=\"#DejaVuSans-54\"/>\r\n       <use x=\"59.333984\" xlink:href=\"#DejaVuSans-54\"/>\r\n       <use x=\"112.667969\" xlink:href=\"#DejaVuSans-41\"/>\r\n      </g>\r\n     </g>\r\n    </g>\r\n    <g id=\"xtick_3\">\r\n     <g id=\"line2d_3\">\r\n      <g>\r\n       <use style=\"stroke:#000000;stroke-width:0.8;\" x=\"55.630484\" xlink:href=\"#ma96f8d409f\" y=\"224.64\"/>\r\n      </g>\r\n     </g>\r\n     <g id=\"text_3\">\r\n      <!-- TAA -->\r\n      <g transform=\"translate(45.985953 239.238437)scale(0.1 -0.1)\">\r\n       <use xlink:href=\"#DejaVuSans-54\"/>\r\n       <use x=\"53.333984\" xlink:href=\"#DejaVuSans-41\"/>\r\n       <use x=\"124.492188\" xlink:href=\"#DejaVuSans-41\"/>\r\n      </g>\r\n     </g>\r\n    </g>\r\n    <g id=\"xtick_4\">\r\n     <g id=\"line2d_4\">\r\n      <g>\r\n       <use style=\"stroke:#000000;stroke-width:0.8;\" x=\"63.901235\" xlink:href=\"#ma96f8d409f\" y=\"224.64\"/>\r\n      </g>\r\n     </g>\r\n     <g id=\"text_4\">\r\n      <!-- AAA -->\r\n      <g transform=\"translate(53.365298 239.238437)scale(0.1 -0.1)\">\r\n       <use xlink:href=\"#DejaVuSans-41\"/>\r\n       <use x=\"71.158203\" xlink:href=\"#DejaVuSans-41\"/>\r\n       <use x=\"142.316406\" xlink:href=\"#DejaVuSans-41\"/>\r\n      </g>\r\n     </g>\r\n    </g>\r\n    <g id=\"xtick_5\">\r\n     <g id=\"line2d_5\">\r\n      <g>\r\n       <use style=\"stroke:#000000;stroke-width:0.8;\" x=\"72.171986\" xlink:href=\"#ma96f8d409f\" y=\"224.64\"/>\r\n      </g>\r\n     </g>\r\n     <g id=\"text_5\">\r\n      <!-- AAG -->\r\n      <g transform=\"translate(61.407142 239.238437)scale(0.1 -0.1)\">\r\n       <defs>\r\n        <path d=\"M 3809 666 \r\nL 3809 1919 \r\nL 2778 1919 \r\nL 2778 2438 \r\nL 4434 2438 \r\nL 4434 434 \r\nQ 4069 175 3628 42 \r\nQ 3188 -91 2688 -91 \r\nQ 1594 -91 976 548 \r\nQ 359 1188 359 2328 \r\nQ 359 3472 976 4111 \r\nQ 1594 4750 2688 4750 \r\nQ 3144 4750 3555 4637 \r\nQ 3966 4525 4313 4306 \r\nL 4313 3634 \r\nQ 3963 3931 3569 4081 \r\nQ 3175 4231 2741 4231 \r\nQ 1884 4231 1454 3753 \r\nQ 1025 3275 1025 2328 \r\nQ 1025 1384 1454 906 \r\nQ 1884 428 2741 428 \r\nQ 3075 428 3337 486 \r\nQ 3600 544 3809 666 \r\nz\r\n\" id=\"DejaVuSans-47\" transform=\"scale(0.015625)\"/>\r\n       </defs>\r\n       <use xlink:href=\"#DejaVuSans-41\"/>\r\n       <use x=\"71.158203\" xlink:href=\"#DejaVuSans-41\"/>\r\n       <use x=\"137.816406\" xlink:href=\"#DejaVuSans-47\"/>\r\n      </g>\r\n     </g>\r\n    </g>\r\n    <g id=\"xtick_6\">\r\n     <g id=\"line2d_6\">\r\n      <g>\r\n       <use style=\"stroke:#000000;stroke-width:0.8;\" x=\"80.442737\" xlink:href=\"#ma96f8d409f\" y=\"224.64\"/>\r\n      </g>\r\n     </g>\r\n     <g id=\"text_6\">\r\n      <!-- AGG -->\r\n      <g transform=\"translate(69.361487 239.238437)scale(0.1 -0.1)\">\r\n       <use xlink:href=\"#DejaVuSans-41\"/>\r\n       <use x=\"66.658203\" xlink:href=\"#DejaVuSans-47\"/>\r\n       <use x=\"144.148438\" xlink:href=\"#DejaVuSans-47\"/>\r\n      </g>\r\n     </g>\r\n    </g>\r\n    <g id=\"xtick_7\">\r\n     <g id=\"line2d_7\">\r\n      <g>\r\n       <use style=\"stroke:#000000;stroke-width:0.8;\" x=\"88.713488\" xlink:href=\"#ma96f8d409f\" y=\"224.64\"/>\r\n      </g>\r\n     </g>\r\n     <g id=\"text_7\">\r\n      <!-- GGT -->\r\n      <g transform=\"translate(78.092394 239.238437)scale(0.1 -0.1)\">\r\n       <use xlink:href=\"#DejaVuSans-47\"/>\r\n       <use x=\"77.490234\" xlink:href=\"#DejaVuSans-47\"/>\r\n       <use x=\"151.355469\" xlink:href=\"#DejaVuSans-54\"/>\r\n      </g>\r\n     </g>\r\n    </g>\r\n    <g id=\"xtick_8\">\r\n     <g id=\"line2d_8\">\r\n      <g>\r\n       <use style=\"stroke:#000000;stroke-width:0.8;\" x=\"96.984239\" xlink:href=\"#ma96f8d409f\" y=\"224.64\"/>\r\n      </g>\r\n     </g>\r\n     <g id=\"text_8\">\r\n      <!-- GTT -->\r\n      <g transform=\"translate(87.270958 239.238437)scale(0.1 -0.1)\">\r\n       <use xlink:href=\"#DejaVuSans-47\"/>\r\n       <use x=\"73.865234\" xlink:href=\"#DejaVuSans-54\"/>\r\n       <use x=\"133.199219\" xlink:href=\"#DejaVuSans-54\"/>\r\n      </g>\r\n     </g>\r\n    </g>\r\n    <g id=\"xtick_9\">\r\n     <g id=\"line2d_9\">\r\n      <g>\r\n       <use style=\"stroke:#000000;stroke-width:0.8;\" x=\"105.25499\" xlink:href=\"#ma96f8d409f\" y=\"224.64\"/>\r\n      </g>\r\n     </g>\r\n     <g id=\"text_9\">\r\n      <!-- TTT -->\r\n      <g transform=\"translate(96.268271 239.238437)scale(0.1 -0.1)\">\r\n       <use xlink:href=\"#DejaVuSans-54\"/>\r\n       <use x=\"59.333984\" xlink:href=\"#DejaVuSans-54\"/>\r\n       <use x=\"118.667969\" xlink:href=\"#DejaVuSans-54\"/>\r\n      </g>\r\n     </g>\r\n    </g>\r\n    <g id=\"xtick_10\">\r\n     <g id=\"line2d_10\">\r\n      <g>\r\n       <use style=\"stroke:#000000;stroke-width:0.8;\" x=\"113.525741\" xlink:href=\"#ma96f8d409f\" y=\"224.64\"/>\r\n      </g>\r\n     </g>\r\n     <g id=\"text_10\">\r\n      <!-- TAT -->\r\n      <g transform=\"translate(104.772616 239.238437)scale(0.1 -0.1)\">\r\n       <use xlink:href=\"#DejaVuSans-54\"/>\r\n       <use x=\"53.333984\" xlink:href=\"#DejaVuSans-41\"/>\r\n       <use x=\"113.992188\" xlink:href=\"#DejaVuSans-54\"/>\r\n      </g>\r\n     </g>\r\n    </g>\r\n    <g id=\"xtick_11\">\r\n     <g id=\"line2d_11\">\r\n      <g>\r\n       <use style=\"stroke:#000000;stroke-width:0.8;\" x=\"121.796492\" xlink:href=\"#ma96f8d409f\" y=\"224.64\"/>\r\n      </g>\r\n     </g>\r\n     <g id=\"text_11\">\r\n      <!-- ATA -->\r\n      <g transform=\"translate(112.676961 239.238437)scale(0.1 -0.1)\">\r\n       <use xlink:href=\"#DejaVuSans-41\"/>\r\n       <use x=\"60.658203\" xlink:href=\"#DejaVuSans-54\"/>\r\n       <use x=\"113.992188\" xlink:href=\"#DejaVuSans-41\"/>\r\n      </g>\r\n     </g>\r\n    </g>\r\n    <g id=\"xtick_12\">\r\n     <g id=\"line2d_12\">\r\n      <g>\r\n       <use style=\"stroke:#000000;stroke-width:0.8;\" x=\"130.067243\" xlink:href=\"#ma96f8d409f\" y=\"224.64\"/>\r\n      </g>\r\n     </g>\r\n     <g id=\"text_12\">\r\n      <!-- TAC -->\r\n      <g transform=\"translate(120.576618 239.238437)scale(0.1 -0.1)\">\r\n       <defs>\r\n        <path d=\"M 4122 4306 \r\nL 4122 3641 \r\nQ 3803 3938 3442 4084 \r\nQ 3081 4231 2675 4231 \r\nQ 1875 4231 1450 3742 \r\nQ 1025 3253 1025 2328 \r\nQ 1025 1406 1450 917 \r\nQ 1875 428 2675 428 \r\nQ 3081 428 3442 575 \r\nQ 3803 722 4122 1019 \r\nL 4122 359 \r\nQ 3791 134 3420 21 \r\nQ 3050 -91 2638 -91 \r\nQ 1578 -91 968 557 \r\nQ 359 1206 359 2328 \r\nQ 359 3453 968 4101 \r\nQ 1578 4750 2638 4750 \r\nQ 3056 4750 3426 4639 \r\nQ 3797 4528 4122 4306 \r\nz\r\n\" id=\"DejaVuSans-43\" transform=\"scale(0.015625)\"/>\r\n       </defs>\r\n       <use xlink:href=\"#DejaVuSans-54\"/>\r\n       <use x=\"53.333984\" xlink:href=\"#DejaVuSans-41\"/>\r\n       <use x=\"119.992188\" xlink:href=\"#DejaVuSans-43\"/>\r\n      </g>\r\n     </g>\r\n    </g>\r\n    <g id=\"xtick_13\">\r\n     <g id=\"line2d_13\">\r\n      <g>\r\n       <use style=\"stroke:#000000;stroke-width:0.8;\" x=\"138.337994\" xlink:href=\"#ma96f8d409f\" y=\"224.64\"/>\r\n      </g>\r\n     </g>\r\n     <g id=\"text_13\">\r\n      <!-- ACC -->\r\n      <g transform=\"translate(128.022369 239.238437)scale(0.1 -0.1)\">\r\n       <use xlink:href=\"#DejaVuSans-41\"/>\r\n       <use x=\"66.658203\" xlink:href=\"#DejaVuSans-43\"/>\r\n       <use x=\"136.482422\" xlink:href=\"#DejaVuSans-43\"/>\r\n      </g>\r\n     </g>\r\n    </g>\r\n    <g id=\"xtick_14\">\r\n     <g id=\"line2d_14\">\r\n      <g>\r\n       <use style=\"stroke:#000000;stroke-width:0.8;\" x=\"146.608745\" xlink:href=\"#ma96f8d409f\" y=\"224.64\"/>\r\n      </g>\r\n     </g>\r\n     <g id=\"text_14\">\r\n      <!-- CCT -->\r\n      <g transform=\"translate(136.572026 239.238437)scale(0.1 -0.1)\">\r\n       <use xlink:href=\"#DejaVuSans-43\"/>\r\n       <use x=\"69.824219\" xlink:href=\"#DejaVuSans-43\"/>\r\n       <use x=\"139.648438\" xlink:href=\"#DejaVuSans-54\"/>\r\n      </g>\r\n     </g>\r\n    </g>\r\n    <g id=\"xtick_15\">\r\n     <g id=\"line2d_15\">\r\n      <g>\r\n       <use style=\"stroke:#000000;stroke-width:0.8;\" x=\"154.879496\" xlink:href=\"#ma96f8d409f\" y=\"224.64\"/>\r\n      </g>\r\n     </g>\r\n     <g id=\"text_15\">\r\n      <!-- CTT -->\r\n      <g transform=\"translate(145.367777 239.238437)scale(0.1 -0.1)\">\r\n       <use xlink:href=\"#DejaVuSans-43\"/>\r\n       <use x=\"69.824219\" xlink:href=\"#DejaVuSans-54\"/>\r\n       <use x=\"129.158203\" xlink:href=\"#DejaVuSans-54\"/>\r\n      </g>\r\n     </g>\r\n    </g>\r\n    <g id=\"xtick_16\">\r\n     <g id=\"line2d_16\">\r\n      <g>\r\n       <use style=\"stroke:#000000;stroke-width:0.8;\" x=\"163.150247\" xlink:href=\"#ma96f8d409f\" y=\"224.64\"/>\r\n      </g>\r\n     </g>\r\n     <g id=\"text_16\">\r\n      <!-- TTC -->\r\n      <g transform=\"translate(153.932278 239.238437)scale(0.1 -0.1)\">\r\n       <use xlink:href=\"#DejaVuSans-54\"/>\r\n       <use x=\"59.333984\" xlink:href=\"#DejaVuSans-54\"/>\r\n       <use x=\"114.542969\" xlink:href=\"#DejaVuSans-43\"/>\r\n      </g>\r\n     </g>\r\n    </g>\r\n    <g id=\"xtick_17\">\r\n     <g id=\"line2d_17\">\r\n      <g>\r\n       <use style=\"stroke:#000000;stroke-width:0.8;\" x=\"171.420998\" xlink:href=\"#ma96f8d409f\" y=\"224.64\"/>\r\n      </g>\r\n     </g>\r\n     <g id=\"text_17\">\r\n      <!-- TCC -->\r\n      <g transform=\"translate(161.678029 239.238437)scale(0.1 -0.1)\">\r\n       <use xlink:href=\"#DejaVuSans-54\"/>\r\n       <use x=\"55.208984\" xlink:href=\"#DejaVuSans-43\"/>\r\n       <use x=\"125.033203\" xlink:href=\"#DejaVuSans-43\"/>\r\n      </g>\r\n     </g>\r\n    </g>\r\n    <g id=\"xtick_18\">\r\n     <g id=\"line2d_18\">\r\n      <g>\r\n       <use style=\"stroke:#000000;stroke-width:0.8;\" x=\"179.691749\" xlink:href=\"#ma96f8d409f\" y=\"224.64\"/>\r\n      </g>\r\n     </g>\r\n     <g id=\"text_18\">\r\n      <!-- CCC -->\r\n      <g transform=\"translate(169.21753 239.238437)scale(0.1 -0.1)\">\r\n       <use xlink:href=\"#DejaVuSans-43\"/>\r\n       <use x=\"69.824219\" xlink:href=\"#DejaVuSans-43\"/>\r\n       <use x=\"139.648438\" xlink:href=\"#DejaVuSans-43\"/>\r\n      </g>\r\n     </g>\r\n    </g>\r\n    <g id=\"xtick_19\">\r\n     <g id=\"line2d_19\">\r\n      <g>\r\n       <use style=\"stroke:#000000;stroke-width:0.8;\" x=\"187.9625\" xlink:href=\"#ma96f8d409f\" y=\"224.64\"/>\r\n      </g>\r\n     </g>\r\n     <g id=\"text_19\">\r\n      <!-- CCA -->\r\n      <g transform=\"translate(177.559375 239.238437)scale(0.1 -0.1)\">\r\n       <use xlink:href=\"#DejaVuSans-43\"/>\r\n       <use x=\"69.824219\" xlink:href=\"#DejaVuSans-43\"/>\r\n       <use x=\"139.648438\" xlink:href=\"#DejaVuSans-41\"/>\r\n      </g>\r\n     </g>\r\n    </g>\r\n    <g id=\"xtick_20\">\r\n     <g id=\"line2d_20\">\r\n      <g>\r\n       <use style=\"stroke:#000000;stroke-width:0.8;\" x=\"196.233251\" xlink:href=\"#ma96f8d409f\" y=\"224.64\"/>\r\n      </g>\r\n     </g>\r\n     <g id=\"text_20\">\r\n      <!-- CAG -->\r\n      <g transform=\"translate(185.534813 239.238437)scale(0.1 -0.1)\">\r\n       <use xlink:href=\"#DejaVuSans-43\"/>\r\n       <use x=\"69.824219\" xlink:href=\"#DejaVuSans-41\"/>\r\n       <use x=\"136.482422\" xlink:href=\"#DejaVuSans-47\"/>\r\n      </g>\r\n     </g>\r\n    </g>\r\n    <g id=\"xtick_21\">\r\n     <g id=\"line2d_21\">\r\n      <g>\r\n       <use style=\"stroke:#000000;stroke-width:0.8;\" x=\"204.504002\" xlink:href=\"#ma96f8d409f\" y=\"224.64\"/>\r\n      </g>\r\n     </g>\r\n     <g id=\"text_21\">\r\n      <!-- GTA -->\r\n      <g transform=\"translate(194.724314 239.238437)scale(0.1 -0.1)\">\r\n       <use xlink:href=\"#DejaVuSans-47\"/>\r\n       <use x=\"73.865234\" xlink:href=\"#DejaVuSans-54\"/>\r\n       <use x=\"127.199219\" xlink:href=\"#DejaVuSans-41\"/>\r\n      </g>\r\n     </g>\r\n    </g>\r\n    <g id=\"xtick_22\">\r\n     <g id=\"line2d_22\">\r\n      <g>\r\n       <use style=\"stroke:#000000;stroke-width:0.8;\" x=\"212.774753\" xlink:href=\"#ma96f8d409f\" y=\"224.64\"/>\r\n      </g>\r\n     </g>\r\n     <g id=\"text_22\">\r\n      <!-- AAC -->\r\n      <g transform=\"translate(202.392722 239.238437)scale(0.1 -0.1)\">\r\n       <use xlink:href=\"#DejaVuSans-41\"/>\r\n       <use x=\"71.158203\" xlink:href=\"#DejaVuSans-41\"/>\r\n       <use x=\"137.816406\" xlink:href=\"#DejaVuSans-43\"/>\r\n      </g>\r\n     </g>\r\n    </g>\r\n    <g id=\"xtick_23\">\r\n     <g id=\"line2d_23\">\r\n      <g>\r\n       <use style=\"stroke:#000000;stroke-width:0.8;\" x=\"221.045504\" xlink:href=\"#ma96f8d409f\" y=\"224.64\"/>\r\n      </g>\r\n     </g>\r\n     <g id=\"text_23\">\r\n      <!-- ACA -->\r\n      <g transform=\"translate(210.800973 239.238437)scale(0.1 -0.1)\">\r\n       <use xlink:href=\"#DejaVuSans-41\"/>\r\n       <use x=\"66.658203\" xlink:href=\"#DejaVuSans-43\"/>\r\n       <use x=\"136.482422\" xlink:href=\"#DejaVuSans-41\"/>\r\n      </g>\r\n     </g>\r\n    </g>\r\n    <g id=\"xtick_24\">\r\n     <g id=\"line2d_24\">\r\n      <g>\r\n       <use style=\"stroke:#000000;stroke-width:0.8;\" x=\"229.316255\" xlink:href=\"#ma96f8d409f\" y=\"224.64\"/>\r\n      </g>\r\n     </g>\r\n     <g id=\"text_24\">\r\n      <!-- CAA -->\r\n      <g transform=\"translate(218.846724 239.238437)scale(0.1 -0.1)\">\r\n       <use xlink:href=\"#DejaVuSans-43\"/>\r\n       <use x=\"69.824219\" xlink:href=\"#DejaVuSans-41\"/>\r\n       <use x=\"140.982422\" xlink:href=\"#DejaVuSans-41\"/>\r\n      </g>\r\n     </g>\r\n    </g>\r\n    <g id=\"xtick_25\">\r\n     <g id=\"line2d_25\">\r\n      <g>\r\n       <use style=\"stroke:#000000;stroke-width:0.8;\" x=\"237.587006\" xlink:href=\"#ma96f8d409f\" y=\"224.64\"/>\r\n      </g>\r\n     </g>\r\n     <g id=\"text_25\">\r\n      <!-- ACT -->\r\n      <g transform=\"translate(227.708881 239.238437)scale(0.1 -0.1)\">\r\n       <use xlink:href=\"#DejaVuSans-41\"/>\r\n       <use x=\"66.658203\" xlink:href=\"#DejaVuSans-43\"/>\r\n       <use x=\"136.482422\" xlink:href=\"#DejaVuSans-54\"/>\r\n      </g>\r\n     </g>\r\n    </g>\r\n    <g id=\"xtick_26\">\r\n     <g id=\"line2d_26\">\r\n      <g>\r\n       <use style=\"stroke:#000000;stroke-width:0.8;\" x=\"245.857757\" xlink:href=\"#ma96f8d409f\" y=\"224.64\"/>\r\n      </g>\r\n     </g>\r\n     <g id=\"text_26\">\r\n      <!-- TCG -->\r\n      <g transform=\"translate(235.731976 239.238437)scale(0.1 -0.1)\">\r\n       <use xlink:href=\"#DejaVuSans-54\"/>\r\n       <use x=\"55.208984\" xlink:href=\"#DejaVuSans-43\"/>\r\n       <use x=\"125.033203\" xlink:href=\"#DejaVuSans-47\"/>\r\n      </g>\r\n     </g>\r\n    </g>\r\n    <g id=\"xtick_27\">\r\n     <g id=\"line2d_27\">\r\n      <g>\r\n       <use style=\"stroke:#000000;stroke-width:0.8;\" x=\"254.128508\" xlink:href=\"#ma96f8d409f\" y=\"224.64\"/>\r\n      </g>\r\n     </g>\r\n     <g id=\"text_27\">\r\n      <!-- CGA -->\r\n      <g transform=\"translate(243.34257 239.238437)scale(0.1 -0.1)\">\r\n       <use xlink:href=\"#DejaVuSans-43\"/>\r\n       <use x=\"69.824219\" xlink:href=\"#DejaVuSans-47\"/>\r\n       <use x=\"147.314453\" xlink:href=\"#DejaVuSans-41\"/>\r\n      </g>\r\n     </g>\r\n    </g>\r\n    <g id=\"xtick_28\">\r\n     <g id=\"line2d_28\">\r\n      <g>\r\n       <use style=\"stroke:#000000;stroke-width:0.8;\" x=\"262.399259\" xlink:href=\"#ma96f8d409f\" y=\"224.64\"/>\r\n      </g>\r\n     </g>\r\n     <g id=\"text_28\">\r\n      <!-- GAT -->\r\n      <g transform=\"translate(252.438321 239.238437)scale(0.1 -0.1)\">\r\n       <use xlink:href=\"#DejaVuSans-47\"/>\r\n       <use x=\"77.490234\" xlink:href=\"#DejaVuSans-41\"/>\r\n       <use x=\"138.148438\" xlink:href=\"#DejaVuSans-54\"/>\r\n      </g>\r\n     </g>\r\n    </g>\r\n    <g id=\"xtick_29\">\r\n     <g id=\"line2d_29\">\r\n      <g>\r\n       <use style=\"stroke:#000000;stroke-width:0.8;\" x=\"270.67001\" xlink:href=\"#ma96f8d409f\" y=\"224.64\"/>\r\n      </g>\r\n     </g>\r\n     <g id=\"text_29\">\r\n      <!-- ATC -->\r\n      <g transform=\"translate(261.385635 239.238437)scale(0.1 -0.1)\">\r\n       <use xlink:href=\"#DejaVuSans-41\"/>\r\n       <use x=\"60.658203\" xlink:href=\"#DejaVuSans-54\"/>\r\n       <use x=\"115.867188\" xlink:href=\"#DejaVuSans-43\"/>\r\n      </g>\r\n     </g>\r\n    </g>\r\n    <g id=\"xtick_30\">\r\n     <g id=\"line2d_30\">\r\n      <g>\r\n       <use style=\"stroke:#000000;stroke-width:0.8;\" x=\"278.940761\" xlink:href=\"#ma96f8d409f\" y=\"224.64\"/>\r\n      </g>\r\n     </g>\r\n     <g id=\"text_30\">\r\n      <!-- TCT -->\r\n      <g transform=\"translate(269.635292 239.238437)scale(0.1 -0.1)\">\r\n       <use xlink:href=\"#DejaVuSans-54\"/>\r\n       <use x=\"55.208984\" xlink:href=\"#DejaVuSans-43\"/>\r\n       <use x=\"125.033203\" xlink:href=\"#DejaVuSans-54\"/>\r\n      </g>\r\n     </g>\r\n    </g>\r\n    <g id=\"xtick_31\">\r\n     <g id=\"line2d_31\">\r\n      <g>\r\n       <use style=\"stroke:#000000;stroke-width:0.8;\" x=\"287.211512\" xlink:href=\"#ma96f8d409f\" y=\"224.64\"/>\r\n      </g>\r\n     </g>\r\n     <g id=\"text_31\">\r\n      <!-- CTC -->\r\n      <g transform=\"translate(277.468543 239.238437)scale(0.1 -0.1)\">\r\n       <use xlink:href=\"#DejaVuSans-43\"/>\r\n       <use x=\"69.824219\" xlink:href=\"#DejaVuSans-54\"/>\r\n       <use x=\"125.033203\" xlink:href=\"#DejaVuSans-43\"/>\r\n      </g>\r\n     </g>\r\n    </g>\r\n    <g id=\"xtick_32\">\r\n     <g id=\"line2d_32\">\r\n      <g>\r\n       <use style=\"stroke:#000000;stroke-width:0.8;\" x=\"295.482263\" xlink:href=\"#ma96f8d409f\" y=\"224.64\"/>\r\n      </g>\r\n     </g>\r\n     <g id=\"text_32\">\r\n      <!-- TTG -->\r\n      <g transform=\"translate(285.587732 239.238437)scale(0.1 -0.1)\">\r\n       <use xlink:href=\"#DejaVuSans-54\"/>\r\n       <use x=\"59.333984\" xlink:href=\"#DejaVuSans-54\"/>\r\n       <use x=\"120.417969\" xlink:href=\"#DejaVuSans-47\"/>\r\n      </g>\r\n     </g>\r\n    </g>\r\n    <g id=\"xtick_33\">\r\n     <g id=\"line2d_33\">\r\n      <g>\r\n       <use style=\"stroke:#000000;stroke-width:0.8;\" x=\"303.753014\" xlink:href=\"#ma96f8d409f\" y=\"224.64\"/>\r\n      </g>\r\n     </g>\r\n     <g id=\"text_33\">\r\n      <!-- TGT -->\r\n      <g transform=\"translate(293.952233 239.238437)scale(0.1 -0.1)\">\r\n       <use xlink:href=\"#DejaVuSans-54\"/>\r\n       <use x=\"61.083984\" xlink:href=\"#DejaVuSans-47\"/>\r\n       <use x=\"134.949219\" xlink:href=\"#DejaVuSans-54\"/>\r\n      </g>\r\n     </g>\r\n    </g>\r\n    <g id=\"xtick_34\">\r\n     <g id=\"line2d_34\">\r\n      <g>\r\n       <use style=\"stroke:#000000;stroke-width:0.8;\" x=\"312.023765\" xlink:href=\"#ma96f8d409f\" y=\"224.64\"/>\r\n      </g>\r\n     </g>\r\n     <g id=\"text_34\">\r\n      <!-- TAG -->\r\n      <g transform=\"translate(302.150327 239.238437)scale(0.1 -0.1)\">\r\n       <use xlink:href=\"#DejaVuSans-54\"/>\r\n       <use x=\"53.333984\" xlink:href=\"#DejaVuSans-41\"/>\r\n       <use x=\"119.992188\" xlink:href=\"#DejaVuSans-47\"/>\r\n      </g>\r\n     </g>\r\n    </g>\r\n    <g id=\"xtick_35\">\r\n     <g id=\"line2d_35\">\r\n      <g>\r\n       <use style=\"stroke:#000000;stroke-width:0.8;\" x=\"320.294516\" xlink:href=\"#ma96f8d409f\" y=\"224.64\"/>\r\n      </g>\r\n     </g>\r\n     <g id=\"text_35\">\r\n      <!-- AGA -->\r\n      <g transform=\"translate(309.667172 239.238437)scale(0.1 -0.1)\">\r\n       <use xlink:href=\"#DejaVuSans-41\"/>\r\n       <use x=\"66.658203\" xlink:href=\"#DejaVuSans-47\"/>\r\n       <use x=\"144.148438\" xlink:href=\"#DejaVuSans-41\"/>\r\n      </g>\r\n     </g>\r\n    </g>\r\n    <g id=\"xtick_36\">\r\n     <g id=\"line2d_36\">\r\n      <g>\r\n       <use style=\"stroke:#000000;stroke-width:0.8;\" x=\"328.565267\" xlink:href=\"#ma96f8d409f\" y=\"224.64\"/>\r\n      </g>\r\n     </g>\r\n     <g id=\"text_36\">\r\n      <!-- CTG -->\r\n      <g transform=\"translate(318.145736 239.238437)scale(0.1 -0.1)\">\r\n       <use xlink:href=\"#DejaVuSans-43\"/>\r\n       <use x=\"69.824219\" xlink:href=\"#DejaVuSans-54\"/>\r\n       <use x=\"130.908203\" xlink:href=\"#DejaVuSans-47\"/>\r\n      </g>\r\n     </g>\r\n    </g>\r\n    <g id=\"xtick_37\">\r\n     <g id=\"line2d_37\">\r\n      <g>\r\n       <use style=\"stroke:#000000;stroke-width:0.8;\" x=\"336.836018\" xlink:href=\"#ma96f8d409f\" y=\"224.64\"/>\r\n      </g>\r\n     </g>\r\n     <g id=\"text_37\">\r\n      <!-- CTA -->\r\n      <g transform=\"translate(327.257893 239.238437)scale(0.1 -0.1)\">\r\n       <use xlink:href=\"#DejaVuSans-43\"/>\r\n       <use x=\"69.824219\" xlink:href=\"#DejaVuSans-54\"/>\r\n       <use x=\"123.158203\" xlink:href=\"#DejaVuSans-41\"/>\r\n      </g>\r\n     </g>\r\n    </g>\r\n   </g>\r\n   <g id=\"matplotlib.axis_2\">\r\n    <g id=\"ytick_1\">\r\n     <g id=\"line2d_38\">\r\n      <defs>\r\n       <path d=\"M 0 0 \r\nL -3.5 0 \r\n\" id=\"m67d92701ad\" style=\"stroke:#000000;stroke-width:0.8;\"/>\r\n      </defs>\r\n      <g>\r\n       <use style=\"stroke:#000000;stroke-width:0.8;\" x=\"20.5625\" xlink:href=\"#m67d92701ad\" y=\"224.64\"/>\r\n      </g>\r\n     </g>\r\n     <g id=\"text_38\">\r\n      <!-- 0 -->\r\n      <g transform=\"translate(7.2 228.439219)scale(0.1 -0.1)\">\r\n       <defs>\r\n        <path d=\"M 2034 4250 \r\nQ 1547 4250 1301 3770 \r\nQ 1056 3291 1056 2328 \r\nQ 1056 1369 1301 889 \r\nQ 1547 409 2034 409 \r\nQ 2525 409 2770 889 \r\nQ 3016 1369 3016 2328 \r\nQ 3016 3291 2770 3770 \r\nQ 2525 4250 2034 4250 \r\nz\r\nM 2034 4750 \r\nQ 2819 4750 3233 4129 \r\nQ 3647 3509 3647 2328 \r\nQ 3647 1150 3233 529 \r\nQ 2819 -91 2034 -91 \r\nQ 1250 -91 836 529 \r\nQ 422 1150 422 2328 \r\nQ 422 3509 836 4129 \r\nQ 1250 4750 2034 4750 \r\nz\r\n\" id=\"DejaVuSans-30\" transform=\"scale(0.015625)\"/>\r\n       </defs>\r\n       <use xlink:href=\"#DejaVuSans-30\"/>\r\n      </g>\r\n     </g>\r\n    </g>\r\n    <g id=\"ytick_2\">\r\n     <g id=\"line2d_39\">\r\n      <g>\r\n       <use style=\"stroke:#000000;stroke-width:0.8;\" x=\"20.5625\" xlink:href=\"#m67d92701ad\" y=\"183.222857\"/>\r\n      </g>\r\n     </g>\r\n     <g id=\"text_39\">\r\n      <!-- 1 -->\r\n      <g transform=\"translate(7.2 187.022076)scale(0.1 -0.1)\">\r\n       <defs>\r\n        <path d=\"M 794 531 \r\nL 1825 531 \r\nL 1825 4091 \r\nL 703 3866 \r\nL 703 4441 \r\nL 1819 4666 \r\nL 2450 4666 \r\nL 2450 531 \r\nL 3481 531 \r\nL 3481 0 \r\nL 794 0 \r\nL 794 531 \r\nz\r\n\" id=\"DejaVuSans-31\" transform=\"scale(0.015625)\"/>\r\n       </defs>\r\n       <use xlink:href=\"#DejaVuSans-31\"/>\r\n      </g>\r\n     </g>\r\n    </g>\r\n    <g id=\"ytick_3\">\r\n     <g id=\"line2d_40\">\r\n      <g>\r\n       <use style=\"stroke:#000000;stroke-width:0.8;\" x=\"20.5625\" xlink:href=\"#m67d92701ad\" y=\"141.805714\"/>\r\n      </g>\r\n     </g>\r\n     <g id=\"text_40\">\r\n      <!-- 2 -->\r\n      <g transform=\"translate(7.2 145.604933)scale(0.1 -0.1)\">\r\n       <defs>\r\n        <path d=\"M 1228 531 \r\nL 3431 531 \r\nL 3431 0 \r\nL 469 0 \r\nL 469 531 \r\nQ 828 903 1448 1529 \r\nQ 2069 2156 2228 2338 \r\nQ 2531 2678 2651 2914 \r\nQ 2772 3150 2772 3378 \r\nQ 2772 3750 2511 3984 \r\nQ 2250 4219 1831 4219 \r\nQ 1534 4219 1204 4116 \r\nQ 875 4013 500 3803 \r\nL 500 4441 \r\nQ 881 4594 1212 4672 \r\nQ 1544 4750 1819 4750 \r\nQ 2544 4750 2975 4387 \r\nQ 3406 4025 3406 3419 \r\nQ 3406 3131 3298 2873 \r\nQ 3191 2616 2906 2266 \r\nQ 2828 2175 2409 1742 \r\nQ 1991 1309 1228 531 \r\nz\r\n\" id=\"DejaVuSans-32\" transform=\"scale(0.015625)\"/>\r\n       </defs>\r\n       <use xlink:href=\"#DejaVuSans-32\"/>\r\n      </g>\r\n     </g>\r\n    </g>\r\n    <g id=\"ytick_4\">\r\n     <g id=\"line2d_41\">\r\n      <g>\r\n       <use style=\"stroke:#000000;stroke-width:0.8;\" x=\"20.5625\" xlink:href=\"#m67d92701ad\" y=\"100.388571\"/>\r\n      </g>\r\n     </g>\r\n     <g id=\"text_41\">\r\n      <!-- 3 -->\r\n      <g transform=\"translate(7.2 104.18779)scale(0.1 -0.1)\">\r\n       <defs>\r\n        <path d=\"M 2597 2516 \r\nQ 3050 2419 3304 2112 \r\nQ 3559 1806 3559 1356 \r\nQ 3559 666 3084 287 \r\nQ 2609 -91 1734 -91 \r\nQ 1441 -91 1130 -33 \r\nQ 819 25 488 141 \r\nL 488 750 \r\nQ 750 597 1062 519 \r\nQ 1375 441 1716 441 \r\nQ 2309 441 2620 675 \r\nQ 2931 909 2931 1356 \r\nQ 2931 1769 2642 2001 \r\nQ 2353 2234 1838 2234 \r\nL 1294 2234 \r\nL 1294 2753 \r\nL 1863 2753 \r\nQ 2328 2753 2575 2939 \r\nQ 2822 3125 2822 3475 \r\nQ 2822 3834 2567 4026 \r\nQ 2313 4219 1838 4219 \r\nQ 1578 4219 1281 4162 \r\nQ 984 4106 628 3988 \r\nL 628 4550 \r\nQ 988 4650 1302 4700 \r\nQ 1616 4750 1894 4750 \r\nQ 2613 4750 3031 4423 \r\nQ 3450 4097 3450 3541 \r\nQ 3450 3153 3228 2886 \r\nQ 3006 2619 2597 2516 \r\nz\r\n\" id=\"DejaVuSans-33\" transform=\"scale(0.015625)\"/>\r\n       </defs>\r\n       <use xlink:href=\"#DejaVuSans-33\"/>\r\n      </g>\r\n     </g>\r\n    </g>\r\n    <g id=\"ytick_5\">\r\n     <g id=\"line2d_42\">\r\n      <g>\r\n       <use style=\"stroke:#000000;stroke-width:0.8;\" x=\"20.5625\" xlink:href=\"#m67d92701ad\" y=\"58.971429\"/>\r\n      </g>\r\n     </g>\r\n     <g id=\"text_42\">\r\n      <!-- 4 -->\r\n      <g transform=\"translate(7.2 62.770647)scale(0.1 -0.1)\">\r\n       <defs>\r\n        <path d=\"M 2419 4116 \r\nL 825 1625 \r\nL 2419 1625 \r\nL 2419 4116 \r\nz\r\nM 2253 4666 \r\nL 3047 4666 \r\nL 3047 1625 \r\nL 3713 1625 \r\nL 3713 1100 \r\nL 3047 1100 \r\nL 3047 0 \r\nL 2419 0 \r\nL 2419 1100 \r\nL 313 1100 \r\nL 313 1709 \r\nL 2253 4666 \r\nz\r\n\" id=\"DejaVuSans-34\" transform=\"scale(0.015625)\"/>\r\n       </defs>\r\n       <use xlink:href=\"#DejaVuSans-34\"/>\r\n      </g>\r\n     </g>\r\n    </g>\r\n    <g id=\"ytick_6\">\r\n     <g id=\"line2d_43\">\r\n      <g>\r\n       <use style=\"stroke:#000000;stroke-width:0.8;\" x=\"20.5625\" xlink:href=\"#m67d92701ad\" y=\"17.554286\"/>\r\n      </g>\r\n     </g>\r\n     <g id=\"text_43\">\r\n      <!-- 5 -->\r\n      <g transform=\"translate(7.2 21.353504)scale(0.1 -0.1)\">\r\n       <defs>\r\n        <path d=\"M 691 4666 \r\nL 3169 4666 \r\nL 3169 4134 \r\nL 1269 4134 \r\nL 1269 2991 \r\nQ 1406 3038 1543 3061 \r\nQ 1681 3084 1819 3084 \r\nQ 2600 3084 3056 2656 \r\nQ 3513 2228 3513 1497 \r\nQ 3513 744 3044 326 \r\nQ 2575 -91 1722 -91 \r\nQ 1428 -91 1123 -41 \r\nQ 819 9 494 109 \r\nL 494 744 \r\nQ 775 591 1075 516 \r\nQ 1375 441 1709 441 \r\nQ 2250 441 2565 725 \r\nQ 2881 1009 2881 1497 \r\nQ 2881 1984 2565 2268 \r\nQ 2250 2553 1709 2553 \r\nQ 1456 2553 1204 2497 \r\nQ 953 2441 691 2322 \r\nL 691 4666 \r\nz\r\n\" id=\"DejaVuSans-35\" transform=\"scale(0.015625)\"/>\r\n       </defs>\r\n       <use xlink:href=\"#DejaVuSans-35\"/>\r\n      </g>\r\n     </g>\r\n    </g>\r\n   </g>\r\n   <g id=\"patch_40\">\r\n    <path d=\"M 20.5625 224.64 \r\nL 20.5625 7.2 \r\n\" style=\"fill:none;stroke:#000000;stroke-linecap:square;stroke-linejoin:miter;stroke-width:0.8;\"/>\r\n   </g>\r\n   <g id=\"patch_41\">\r\n    <path d=\"M 355.3625 224.64 \r\nL 355.3625 7.2 \r\n\" style=\"fill:none;stroke:#000000;stroke-linecap:square;stroke-linejoin:miter;stroke-width:0.8;\"/>\r\n   </g>\r\n   <g id=\"patch_42\">\r\n    <path d=\"M 20.5625 224.64 \r\nL 355.3625 224.64 \r\n\" style=\"fill:none;stroke:#000000;stroke-linecap:square;stroke-linejoin:miter;stroke-width:0.8;\"/>\r\n   </g>\r\n   <g id=\"patch_43\">\r\n    <path d=\"M 20.5625 7.2 \r\nL 355.3625 7.2 \r\n\" style=\"fill:none;stroke:#000000;stroke-linecap:square;stroke-linejoin:miter;stroke-width:0.8;\"/>\r\n   </g>\r\n  </g>\r\n </g>\r\n <defs>\r\n  <clipPath id=\"pc9ff4fc1dc\">\r\n   <rect height=\"217.44\" width=\"334.8\" x=\"20.5625\" y=\"7.2\"/>\r\n  </clipPath>\r\n </defs>\r\n</svg>\r\n",
      "image/png": "[encoded data removed]"
     },
     "metadata": {
      "needs_background": "light"
     }
    }
   ],
   "source": [
    "#Plot kmer frequency\n",
    "import matplotlib.pyplot as plt\n",
    "\n",
    "dna_seq_plot = DNA(\"ATTAAAGGTTTATACCTTCCCAGGTAACAAACCAACCAACTTTCGATCTCTTGTAGATCTGTTCTCTAAA\")\n",
    "\n",
    "plt.bar(dna_seq_plot.kmer_frequencies(3).keys(), dna_seq_plot.kmer_frequencies(3).values())"
   ]
  },
  {
   "source": [
    "## 6) Sequence Alignments"
   ],
   "cell_type": "markdown",
   "metadata": {}
  },
  {
   "cell_type": "code",
   "execution_count": 63,
   "metadata": {},
   "outputs": [],
   "source": [
    "import skbio.alignment as align\n",
    "#dir(align)"
   ]
  },
  {
   "cell_type": "code",
   "execution_count": 66,
   "metadata": {},
   "outputs": [
    {
     "output_type": "stream",
     "name": "stdout",
     "text": [
      "ACTATCAGT\nACTTAC\n"
     ]
    }
   ],
   "source": [
    "seq3 = DNA(\"ACTTAC\")\n",
    "print(seq1)\n",
    "print(seq3)"
   ]
  },
  {
   "source": [
    "## Local Alignment (gaps are not depicted)"
   ],
   "cell_type": "markdown",
   "metadata": {}
  },
  {
   "cell_type": "code",
   "execution_count": 71,
   "metadata": {},
   "outputs": [
    {
     "output_type": "stream",
     "name": "stdout",
     "text": [
      "TabularMSA[DNA]\n---------------------\nStats:\n    sequence count: 2\n    position count: 3\n---------------------\nACT\nACT\n\n\n6\n[(0, 2), (0, 2)]\n"
     ]
    }
   ],
   "source": [
    "#StripedSmithWaterman method\n",
    "local_alignment, local_score, local_start_end_positions = align.local_pairwise_align_ssw(seq1,seq3)\n",
    "\n",
    "print(local_alignment)\n",
    "print('\\n')\n",
    "print(local_score)\n",
    "print(local_start_end_positions)"
   ]
  },
  {
   "source": [
    "## Global Alignment (gaps are counted)"
   ],
   "cell_type": "markdown",
   "metadata": {}
  },
  {
   "cell_type": "code",
   "execution_count": 72,
   "metadata": {},
   "outputs": [
    {
     "output_type": "stream",
     "name": "stderr",
     "text": [
      "C:\\Users\\18687\\AppData\\Local\\Programs\\Python\\Python39\\lib\\site-packages\\skbio\\alignment\\_pairwise.py:595: EfficiencyWarning: You're using skbio's python implementation of Needleman-Wunsch alignment. This is known to be very slow (e.g., thousands of times slower than a native C implementation). We'll be adding a faster version soon (see https://github.com/biocore/scikit-bio/issues/254 to track progress on this).\n  warn(\"You're using skbio's python implementation of Needleman-Wunsch \"\n"
     ]
    }
   ],
   "source": [
    "global_alignment, global_score, global_start_end_positions = align.global_pairwise_align_nucleotide(seq1,seq3)\n",
    "\n"
   ]
  },
  {
   "cell_type": "code",
   "execution_count": 73,
   "metadata": {},
   "outputs": [
    {
     "output_type": "stream",
     "name": "stdout",
     "text": [
      "TabularMSA[DNA]\n----------------------\nStats:\n    sequence count: 2\n    position count: 13\n----------------------\n----ACTATCAGT\nACTTAC-------\n\n\n2.0\n[(0, 8), (0, 5)]\n"
     ]
    }
   ],
   "source": [
    "print(global_alignment)\n",
    "print('\\n')\n",
    "print(global_score)\n",
    "print(global_start_end_positions)"
   ]
  },
  {
   "source": [
    "## Comparing Protein Sequence Alignment"
   ],
   "cell_type": "markdown",
   "metadata": {}
  },
  {
   "cell_type": "code",
   "execution_count": 74,
   "metadata": {},
   "outputs": [],
   "source": [
    "from skbio import Protein"
   ]
  },
  {
   "cell_type": "code",
   "execution_count": 77,
   "metadata": {},
   "outputs": [],
   "source": [
    "p1 = Protein(\"MITITV\")\n",
    "p2 = Protein(\"ITITV\")"
   ]
  },
  {
   "cell_type": "code",
   "execution_count": 79,
   "metadata": {},
   "outputs": [
    {
     "output_type": "stream",
     "name": "stderr",
     "text": [
      "C:\\Users\\18687\\AppData\\Local\\Programs\\Python\\Python39\\lib\\site-packages\\skbio\\alignment\\_pairwise.py:318: EfficiencyWarning: You're using skbio's python implementation of Smith-Waterman alignment. This will be very slow (e.g., thousands of times slower) than skbio.alignment.local_pairwise_align_ssw.\n  warn(\"You're using skbio's python implementation of Smith-Waterman \"\n"
     ]
    },
    {
     "output_type": "execute_result",
     "data": {
      "text/plain": [
       "(TabularMSA[Protein]\n",
       " ---------------------\n",
       " Stats:\n",
       "     sequence count: 2\n",
       "     position count: 5\n",
       " ---------------------\n",
       " ITITV\n",
       " ITITV,\n",
       " 25.0,\n",
       " [(1, 5), (0, 4)])"
      ]
     },
     "metadata": {},
     "execution_count": 79
    }
   ],
   "source": [
    "align.local_pairwise_align_protein(p1,p2)"
   ]
  },
  {
   "cell_type": "code",
   "execution_count": 80,
   "metadata": {},
   "outputs": [
    {
     "output_type": "stream",
     "name": "stderr",
     "text": [
      "C:\\Users\\18687\\AppData\\Local\\Programs\\Python\\Python39\\lib\\site-packages\\skbio\\alignment\\_pairwise.py:595: EfficiencyWarning: You're using skbio's python implementation of Needleman-Wunsch alignment. This is known to be very slow (e.g., thousands of times slower than a native C implementation). We'll be adding a faster version soon (see https://github.com/biocore/scikit-bio/issues/254 to track progress on this).\n  warn(\"You're using skbio's python implementation of Needleman-Wunsch \"\n"
     ]
    },
    {
     "output_type": "execute_result",
     "data": {
      "text/plain": [
       "(TabularMSA[Protein]\n",
       " ---------------------\n",
       " Stats:\n",
       "     sequence count: 2\n",
       "     position count: 6\n",
       " ---------------------\n",
       " MITITV\n",
       " -ITITV,\n",
       " 25.0,\n",
       " [(0, 5), (0, 4)])"
      ]
     },
     "metadata": {},
     "execution_count": 80
    }
   ],
   "source": [
    "align.global_pairwise_align_protein(p1,p2)"
   ]
  },
  {
   "source": [
    "# 7) Working with FASTA and GenBank File Formats"
   ],
   "cell_type": "markdown",
   "metadata": {}
  },
  {
   "cell_type": "code",
   "execution_count": 2,
   "metadata": {},
   "outputs": [],
   "source": [
    "import skbio.io"
   ]
  },
  {
   "source": [
    "## FASTA"
   ],
   "cell_type": "markdown",
   "metadata": {}
  },
  {
   "cell_type": "code",
   "execution_count": 6,
   "metadata": {},
   "outputs": [],
   "source": [
    "#Reading a FASTA file METHOD 1\n",
    "seq_file = skbio.io.read(r\"C:\\Users\\18687\\Desktop\\Bio Informatics\\Bioinformatics with Python Packages\\Scikit-Bio\\sckit-bio\\SARS_complete_genome.fasta\", format = \"fasta\")"
   ]
  },
  {
   "cell_type": "code",
   "execution_count": 10,
   "metadata": {
    "tags": []
   },
   "outputs": [
    {
     "output_type": "stream",
     "name": "stdout",
     "text": [
      "<generator object IORegistry.read.<locals>.<genexpr> at 0x0000023D03C08F20>\n"
     ]
    }
   ],
   "source": [
    "#Get sequence\n",
    "print(seq_file)\n",
    "for i in seq_file:\n",
    "    pass\n",
    "    #print(i) - very long sequence"
   ]
  },
  {
   "cell_type": "code",
   "execution_count": 12,
   "metadata": {},
   "outputs": [
    {
     "output_type": "execute_result",
     "data": {
      "text/plain": [
       "Sequence\n",
       "-----------------------------------------------------------------------\n",
       "Metadata:\n",
       "    'description': 'Severe acute respiratory syndrome coronavirus 2\n",
       "                    isolate Wuhan-Hu-1, complete genome'\n",
       "    'id': 'MN908947.3'\n",
       "Stats:\n",
       "    length: 29903\n",
       "-----------------------------------------------------------------------\n",
       "0     ATTAAAGGTT TATACCTTCC CAGGTAACAA ACCAACCAAC TTTCGATCTC TTGTAGATCT\n",
       "60    GTTCTCTAAA CGAACTTTAA AATCTGTGTG GCTGTCACTC GGCTGCATGC TTAGTGCACT\n",
       "...\n",
       "29820 TTTAGTAGTG CTATCCCCAT GTGATTTTAA TAGCTTCTTA GGAGAATGAC AAAAAAAAAA\n",
       "29880 AAAAAAAAAA AAAAAAAAAA AAA"
      ]
     },
     "metadata": {},
     "execution_count": 12
    }
   ],
   "source": [
    "#Reading a FASTA file METHOD 2 - directly into a sequence\n",
    "from skbio import DNA, Sequence\n",
    "seq_file_direct = Sequence.read(r\"C:\\Users\\18687\\Desktop\\Bio Informatics\\Bioinformatics with Python Packages\\Scikit-Bio\\sckit-bio\\SARS_complete_genome.fasta\")\n",
    "seq_file_direct"
   ]
  },
  {
   "source": [
    "## GenBank"
   ],
   "cell_type": "markdown",
   "metadata": {}
  },
  {
   "cell_type": "code",
   "execution_count": 16,
   "metadata": {},
   "outputs": [
    {
     "output_type": "execute_result",
     "data": {
      "text/plain": [
       "DNA\n",
       "-----------------------------------------------------------------------\n",
       "Metadata:\n",
       "    'ACCESSION': 'MN908947'\n",
       "    'COMMENT': <class 'str'>\n",
       "    'DEFINITION': 'Severe acute respiratory syndrome coronavirus 2\n",
       "                   isolate Wuhan-Hu-1, complete genome.'\n",
       "    'KEYWORDS': '.'\n",
       "    'LOCUS': <class 'dict'>\n",
       "    'REFERENCE': <class 'list'>\n",
       "    'SOURCE': <class 'dict'>\n",
       "    'VERSION': 'MN908947.3'\n",
       "Interval metadata:\n",
       "    23 interval features\n",
       "Stats:\n",
       "    length: 29903\n",
       "    has gaps: False\n",
       "    has degenerates: False\n",
       "    has definites: True\n",
       "    GC-content: 37.97%\n",
       "-----------------------------------------------------------------------\n",
       "0     ATTAAAGGTT TATACCTTCC CAGGTAACAA ACCAACCAAC TTTCGATCTC TTGTAGATCT\n",
       "60    GTTCTCTAAA CGAACTTTAA AATCTGTGTG GCTGTCACTC GGCTGCATGC TTAGTGCACT\n",
       "...\n",
       "29820 TTTAGTAGTG CTATCCCCAT GTGATTTTAA TAGCTTCTTA GGAGAATGAC AAAAAAAAAA\n",
       "29880 AAAAAAAAAA AAAAAAAAAA AAA"
      ]
     },
     "metadata": {},
     "execution_count": 16
    }
   ],
   "source": [
    "#Read GenBank directly into sequence\n",
    "\n",
    "seq_file_genbank = DNA.read(r\"C:\\Users\\18687\\Desktop\\Bio Informatics\\Bioinformatics with Python Packages\\Scikit-Bio\\sckit-bio\\SARS_complete_genome.gb\")\n",
    "seq_file_genbank"
   ]
  },
  {
   "source": [
    "## NCBI"
   ],
   "cell_type": "markdown",
   "metadata": {}
  },
  {
   "cell_type": "code",
   "execution_count": 18,
   "metadata": {},
   "outputs": [
    {
     "output_type": "execute_result",
     "data": {
      "text/plain": [
       "GeneticCode (Trematode Mitochondrial)\n",
       "-------------------------------------------------------------------------\n",
       "  AAs  = FFLLSSSSYY**CCWWLLLLPPPPHHQQRRRRIIMMTTTTNNNKSSSSVVVVAAAADDEEGGGG\n",
       "Starts = -----------------------------------M---------------M------------\n",
       "Base1  = UUUUUUUUUUUUUUUUCCCCCCCCCCCCCCCCAAAAAAAAAAAAAAAAGGGGGGGGGGGGGGGG\n",
       "Base2  = UUUUCCCCAAAAGGGGUUUUCCCCAAAAGGGGUUUUCCCCAAAAGGGGUUUUCCCCAAAAGGGG\n",
       "Base3  = UCAGUCAGUCAGUCAGUCAGUCAGUCAGUCAGUCAGUCAGUCAGUCAGUCAGUCAGUCAGUCAG"
      ]
     },
     "metadata": {},
     "execution_count": 18
    }
   ],
   "source": [
    "species_mit = skbio.sequence.GeneticCode.from_ncbi(21) #Particular ID from NCBI\n",
    "species_mit"
   ]
  },
  {
   "source": [
    "# 8) Phylogenetics with Newick format"
   ],
   "cell_type": "markdown",
   "metadata": {}
  },
  {
   "source": [
    " ### Phylogenetics\n",
    "+ Phylogenetics: study of evolutionary history and relationships among entities\n",
    "+ A Phylo Tree/Evolutionary Tree is a branching diagram or tree showing the evolutionary relationships among various\n",
    "species or entities based on similarity and differences in their physical or genetic characteristics\n",
    "\n",
    "+ Newick Format\n",
    "+ Nexus\n",
    "+ PhyloXML\n",
    "\n",
    "#### Terms\n",
    "+ (;)The semi-colon creates a root node to its left. \n",
    "    - Recall that there can only be one root in a tree.\n",
    "+ (,)The comma which creates a node to its right. \n",
    "+  (( )) The paired parenthesis provide  relationships,\n",
    "+ Placing ( ) in a node’s location will create a child inside the parenthesis on the left-most inner edge.\n",
    "+ children <= node <= root\n",
    "\n",
    "+ \"((grand_child, grand_child)Brother, Children)rootParent;\"\n",
    "+ \"((Enoch,Awan)Seth,Cain,Abel)Adam;\"\n",
    "\n"
   ],
   "cell_type": "markdown",
   "metadata": {}
  },
  {
   "cell_type": "code",
   "execution_count": 25,
   "metadata": {},
   "outputs": [],
   "source": [
    "from skbio import TreeNode\n",
    "from io import StringIO"
   ]
  },
  {
   "cell_type": "code",
   "execution_count": 27,
   "metadata": {},
   "outputs": [],
   "source": [
    "#Examining the evolutionary history of Noah whom built the ark!\n",
    "noah_tree = TreeNode.read(StringIO(\"((Magog,Madia,Javan, Gomer)Japheth,(Israel,Arphaxad)Shem,(Cush,Egypt,Phut,Canaan)Ham)root;\"))\n",
    "\n",
    "#his siblings were Japheth, Shem and Ham who branched their genetics out (had children)"
   ]
  },
  {
   "cell_type": "code",
   "execution_count": 28,
   "metadata": {},
   "outputs": [
    {
     "output_type": "execute_result",
     "data": {
      "text/plain": [
       "True"
      ]
     },
     "metadata": {},
     "execution_count": 28
    }
   ],
   "source": [
    "#Check if this is a root\n",
    "noah_tree.is_root() #T\n",
    "\n",
    "#Check if it is a tip\n",
    "noah_tree.is_tip() #F"
   ]
  },
  {
   "cell_type": "code",
   "execution_count": 31,
   "metadata": {},
   "outputs": [
    {
     "output_type": "stream",
     "name": "stdout",
     "text": [
      "                    /-Magog\n                   |\n                   |--Madia\n          /Japheth-|\n         |         |--Javan\n         |         |\n         |          \\-Gomer\n         |\n         |          /-Israel\n-root----|-Shem----|\n         |          \\-Arphaxad\n         |\n         |          /-Cush\n         |         |\n         |         |--Egypt\n          \\Ham-----|\n                   |--Phut\n                   |\n                    \\-Canaan\n"
     ]
    }
   ],
   "source": [
    "#Visualize my Phylogenetic Tree as Dendrogram\n",
    "print(noah_tree.ascii_art())\n",
    "\n",
    "#reference against noahfamilytree.jpg"
   ]
  },
  {
   "cell_type": "code",
   "execution_count": 32,
   "metadata": {},
   "outputs": [
    {
     "output_type": "execute_result",
     "data": {
      "text/plain": [
       "[<TreeNode, name: Japheth, internal node count: 0, tips count: 4>,\n",
       " <TreeNode, name: Shem, internal node count: 0, tips count: 2>,\n",
       " <TreeNode, name: Ham, internal node count: 0, tips count: 4>]"
      ]
     },
     "metadata": {},
     "execution_count": 32
    }
   ],
   "source": [
    "#Check for children\n",
    "noah_tree.children"
   ]
  },
  {
   "source": [
    "#total nodes (including rightmost nodes which are leaves and leftmost node which is root)\n",
    "noah_tree.count()"
   ],
   "cell_type": "code",
   "metadata": {},
   "execution_count": null,
   "outputs": []
  },
  {
   "cell_type": "code",
   "execution_count": 35,
   "metadata": {},
   "outputs": [
    {
     "output_type": "execute_result",
     "data": {
      "text/plain": [
       "<bound method TreeNode.lowest_common_ancestor of <TreeNode, name: root, internal node count: 3, tips count: 10>>"
      ]
     },
     "metadata": {},
     "execution_count": 35
    }
   ],
   "source": [
    "#Common ancestor\n",
    "noah_tree.lowest_common_ancestor"
   ]
  },
  {
   "source": [
    "## Custom Phylogenetic Tree"
   ],
   "cell_type": "markdown",
   "metadata": {}
  },
  {
   "cell_type": "code",
   "execution_count": 36,
   "metadata": {},
   "outputs": [],
   "source": [
    "#Children inside the bracket - Adam is the root node, seth has children enoch and awan, enoch had methu etc\n",
    "\"(Cain,Abel,((Methu)Enoch,Awan)Seth)Adam;\"\n",
    "adam_tree = TreeNode.read(StringIO(\"(Cain,Abel,((Methu)Enoch,Awan)Seth)Adam;\"))"
   ]
  },
  {
   "cell_type": "code",
   "execution_count": 37,
   "metadata": {},
   "outputs": [
    {
     "output_type": "stream",
     "name": "stdout",
     "text": [
      "          /-Cain\n         |\n-Adam----|--Abel\n         |\n         |          /Enoch--- /-Methu\n          \\Seth----|\n                    \\-Awan\n"
     ]
    }
   ],
   "source": [
    "print(adam_tree.ascii_art())"
   ]
  },
  {
   "source": [
    "## Using Newick"
   ],
   "cell_type": "markdown",
   "metadata": {}
  },
  {
   "source": [
    "```python\n",
    ">>> from io import StringIO\n",
    ">>> from skbio import read\n",
    ">>> from skbio.tree import TreeNode\n",
    ">>> f = StringIO(\"((D, E)B, (F, G)C)A;\")\n",
    ">>> tree = read(f, format=\"newick\", into=TreeNode)\n",
    ">>> f.close()\n",
    ">>> print(tree.ascii_art())\n",
    "                    /-D\n",
    "          /B-------|\n",
    "         |          \\-E\n",
    "-A-------|\n",
    "         |          /-F\n",
    "          \\C-------|\n",
    "                    \\-G\n",
    "                     \n",
    "## Method 2\n",
    ">>> from io import StringIO\n",
    ">>> from skbio import read\n",
    ">>> from skbio.tree import TreeNode\n",
    ">>> f = StringIO(\"((D, E)B, (F, G)C)A;\")\n",
    ">>> tree = read(f, format=\"newick\", into=TreeNode)\n",
    ">>> f.close()\n",
    ">>> print(tree.ascii_art())\n",
    "                    /-D\n",
    "          /B-------|\n",
    "         |          \\-E\n",
    "-A-------|\n",
    "         |          /-F\n",
    "          \\C-------|\n",
    "                    \\-G                    \n",
    "            \n",
    "```"
   ],
   "cell_type": "markdown",
   "metadata": {}
  },
  {
   "cell_type": "code",
   "execution_count": null,
   "metadata": {},
   "outputs": [],
   "source": []
  }
 ]
}